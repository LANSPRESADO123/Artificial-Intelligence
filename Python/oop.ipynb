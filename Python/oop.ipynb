{
 "cells": [
  {
   "cell_type": "markdown",
   "metadata": {},
   "source": [
    "# CLASS\n",
    "-Constructor\n",
    "    [__init__]\n",
    "    "
   ]
  },
  {
   "cell_type": "markdown",
   "metadata": {},
   "source": [
    "-Defining a class"
   ]
  },
  {
   "cell_type": "code",
   "execution_count": 8,
   "metadata": {},
   "outputs": [
    {
     "name": "stdout",
     "output_type": "stream",
     "text": [
      "5\n"
     ]
    }
   ],
   "source": [
    "class MyClass:\n",
    "    x=5\n"
   ]
  },
  {
   "cell_type": "markdown",
   "metadata": {},
   "source": [
    "-Created an object named \"a\" and printed the value of x"
   ]
  },
  {
   "cell_type": "code",
   "execution_count": 10,
   "metadata": {},
   "outputs": [
    {
     "name": "stdout",
     "output_type": "stream",
     "text": [
      "5\n"
     ]
    }
   ],
   "source": [
    "\n",
    "a=MyClass()\n",
    "print(a.x)"
   ]
  },
  {
   "cell_type": "markdown",
   "metadata": {},
   "source": [
    "-Constructor"
   ]
  },
  {
   "cell_type": "code",
   "execution_count": 12,
   "metadata": {},
   "outputs": [
    {
     "name": "stdout",
     "output_type": "stream",
     "text": [
      "Shafi\n",
      "20\n"
     ]
    }
   ],
   "source": [
    "class Person:\n",
    "    def __init__(self,name,age):\n",
    "        self.n=name\n",
    "        self.a=age\n",
    "p1=Person(\"Shafi\",20)\n",
    "print(p1.n)\n",
    "print(p1.a)"
   ]
  },
  {
   "cell_type": "markdown",
   "metadata": {},
   "source": [
    "# INHERITANCE"
   ]
  },
  {
   "cell_type": "code",
   "execution_count": 5,
   "metadata": {},
   "outputs": [
    {
     "name": "stdout",
     "output_type": "stream",
     "text": [
      "Full Name : John Doe\n"
     ]
    }
   ],
   "source": [
    "class Person:\n",
    "    def __init__(self,fname,lname):\n",
    "        self.firstname=fname\n",
    "        self.lastname=lname\n",
    "    def name(self):\n",
    "        print(\"Full Name :\",end=\" \")\n",
    "        print(self.firstname,self.lastname)\n",
    "x=Person(\"John\",\"Doe\")\n",
    "x.name()"
   ]
  },
  {
   "cell_type": "code",
   "execution_count": 6,
   "metadata": {},
   "outputs": [
    {
     "name": "stdout",
     "output_type": "stream",
     "text": [
      "Full Name : Joyboy Nika\n"
     ]
    }
   ],
   "source": [
    "class Student(Person):\n",
    "    def __init__(self, fname, lname):\n",
    "        # super().__init__(fname, lname)\n",
    "        Person.__init__(self, fname, lname)\n",
    "\n",
    "x=Person(\"Joyboy\",\"Nika\")\n",
    "x.name()"
   ]
  },
  {
   "cell_type": "markdown",
   "metadata": {},
   "source": [
    "-using super function"
   ]
  },
  {
   "cell_type": "code",
   "execution_count": 11,
   "metadata": {},
   "outputs": [],
   "source": [
    "class Student(Person):\n",
    "    def __init__(self, fname, lname):\n",
    "        super().__init__(fname, lname)"
   ]
  },
  {
   "cell_type": "markdown",
   "metadata": {},
   "source": [
    "-adding properties called year"
   ]
  },
  {
   "cell_type": "code",
   "execution_count": 45,
   "metadata": {},
   "outputs": [
    {
     "name": "stdout",
     "output_type": "stream",
     "text": [
      "Full Name : Joyboy Nika\n"
     ]
    },
    {
     "data": {
      "text/plain": [
       "2014"
      ]
     },
     "execution_count": 45,
     "metadata": {},
     "output_type": "execute_result"
    }
   ],
   "source": [
    "class Student(Person):\n",
    "    def __init__(self, fname, lname):\n",
    "        super().__init__(fname, lname)\n",
    "        self.year=2014\n",
    "x=Student(\"Joyboy\",\"Nika\")\n",
    "x.name()\n",
    "x.year"
   ]
  },
  {
   "cell_type": "code",
   "execution_count": 47,
   "metadata": {},
   "outputs": [
    {
     "name": "stdout",
     "output_type": "stream",
     "text": [
      "Welcome Joyboy Nika to the class of 2030\n"
     ]
    }
   ],
   "source": [
    "class Person:#Parent class\n",
    "    def __init__(self,fname,lname):\n",
    "        self.firstname=fname\n",
    "        self.lastname=lname\n",
    "    def name(self):\n",
    "        print(\"Full Name :\",end=\" \")\n",
    "        print(self.firstname,self.lastname)\n",
    "\n",
    "class Student(Person):#Child class\n",
    "    def __init__(self, fname, lname,year):\n",
    "        super().__init__(fname, lname)\n",
    "        self.graduationyear=year\n",
    "    def welcome(self):\n",
    "        print(\"Welcome\",self.firstname,self.lastname,\"to the class of\",self.graduationyear)\n",
    "\n",
    "x=Student(\"Joyboy\",\"Nika\",2030)\n",
    "x.welcome()"
   ]
  },
  {
   "cell_type": "markdown",
   "metadata": {},
   "source": [
    "A class 'Person' with 'name' as its instance attribute"
   ]
  },
  {
   "cell_type": "code",
   "execution_count": 53,
   "metadata": {},
   "outputs": [
    {
     "name": "stdout",
     "output_type": "stream",
     "text": [
      "Hello, my name is John\n"
     ]
    }
   ],
   "source": [
    "class Person:\n",
    "    def __init__(self, name):\n",
    "        self.name = name #instance attibute\n",
    "    def start(self):\n",
    "        print(f\"Hello, my name is {self.name}\")\n",
    "\n",
    "x=Person(\"John\")\n",
    "x.start()"
   ]
  },
  {
   "cell_type": "markdown",
   "metadata": {},
   "source": [
    "Class Vehicles without any variables or methods "
   ]
  },
  {
   "cell_type": "code",
   "execution_count": null,
   "metadata": {},
   "outputs": [],
   "source": [
    "class Vehicles:\n",
    "    pass"
   ]
  },
  {
   "cell_type": "markdown",
   "metadata": {},
   "source": [
    "The child class 'Car' is inheriting all the methods and variables of the Parent class 'Vehicle'"
   ]
  },
  {
   "cell_type": "code",
   "execution_count": 58,
   "metadata": {},
   "outputs": [
    {
     "name": "stdout",
     "output_type": "stream",
     "text": [
      "Ford is started\n"
     ]
    }
   ],
   "source": [
    "class Vehicle:\n",
    "    def __init__(self,name):\n",
    "        self.name=name\n",
    "    def start(self):\n",
    "        print(self.name,\"is started\")\n",
    "        \n",
    "\n",
    "class Car(Vehicle):\n",
    "    def __init__(self,carname):\n",
    "        self.carname=carname\n",
    "        super().__init__(carname)\n",
    "\n",
    "x=Car(\"Ford\")\n",
    "x.start()"
   ]
  },
  {
   "cell_type": "markdown",
   "metadata": {},
   "source": [
    "# MULTIPLE INHERITANCE"
   ]
  },
  {
   "cell_type": "code",
   "execution_count": 77,
   "metadata": {},
   "outputs": [
    {
     "name": "stdout",
     "output_type": "stream",
     "text": [
      "Tiger\n",
      "Animal\n",
      "Carnivore\n"
     ]
    }
   ],
   "source": [
    "class Animal:\n",
    "    def animal_info(self):\n",
    "        print(\"Animal\")\n",
    "class Carnivore:\n",
    "    def carnivore_info(self):\n",
    "        print(\"Carnivore\")\n",
    "\n",
    "class Tiger(Animal,Carnivore):\n",
    "    def __init__(self):\n",
    "        print(\"Tiger\")\n",
    "\n",
    "\n",
    "x=Tiger()\n",
    "x.animal_info()\n",
    "x.carnivore_info( )"
   ]
  },
  {
   "cell_type": "code",
   "execution_count": 96,
   "metadata": {},
   "outputs": [
    {
     "name": "stdout",
     "output_type": "stream",
     "text": [
      " I am a Mammal\n",
      " I am a Marine Animal\n",
      " I am a Whale , I am a Mammal and a Marine Animal\n"
     ]
    }
   ],
   "source": [
    "class Mammal:\n",
    "    def animal_info(self):\n",
    "        print(\" I am a Mammal\")\n",
    "class MarineAnimal:\n",
    "    def marineanimal_info(self):\n",
    "        print(\" I am a Marine Animal\")\n",
    "\n",
    "class BlueWhale(Mammal,MarineAnimal):\n",
    "    def __init__(self):\n",
    "        print(\" I am a Whale , I am a Mammal and a Marine Animal\")\n",
    "\n",
    "x=Mammal()\n",
    "x.animal_info()\n",
    "y=MarineAnimal()\n",
    "y.marineanimal_info( )\n",
    "z=BlueWhale()\n",
    "# z.animal_info()\n",
    "# z.marineanimal_info( )"
   ]
  },
  {
   "cell_type": "code",
   "execution_count": 4,
   "metadata": {},
   "outputs": [
    {
     "name": "stdout",
     "output_type": "stream",
     "text": [
      " I am a Mammal\n",
      " I am a Whale , I am a Mammal and a Marine Animal\n"
     ]
    }
   ],
   "source": [
    "class Mammal:\n",
    "    def __init__ (self):\n",
    "        print(\" I am a Mammal\")\n",
    "class MarineAnimal:\n",
    "    def __init__(self):\n",
    "        print(\" I am a Marine Animal\")\n",
    "\n",
    "class BlueWhale(Mammal,MarineAnimal):\n",
    "    def __init__(self):\n",
    "        super().__init__()\n",
    "        print(\" I am a Whale , I am a Mammal and a Marine Animal\")\n",
    "\n",
    "# x=Mammal()\n",
    "# x.animal_info()\n",
    "# y=MarineAnimal()\n",
    "# y.marineanimal_info( )\n",
    "\n",
    "z=BlueWhale()\n",
    "\n"
   ]
  },
  {
   "cell_type": "markdown",
   "metadata": {},
   "source": [
    "# MULTILEVEL INHERITANCE"
   ]
  },
  {
   "cell_type": "code",
   "execution_count": 8,
   "metadata": {},
   "outputs": [
    {
     "name": "stdout",
     "output_type": "stream",
     "text": [
      "I am a Tiger\n",
      "I am an Animal\n",
      " \n",
      "I am a Lion\n",
      "I am an Animal\n"
     ]
    }
   ],
   "source": [
    "class Animal:\n",
    "    def animal_info(self):\n",
    "        print(\"I am an Animal\")\n",
    "\n",
    "class Lion(Animal):\n",
    "    def __init__ (self):\n",
    "        super().__init__()\n",
    "        print(\"I am a Lion\")\n",
    "\n",
    "class Tiger(Animal):\n",
    "    def __init__(self):\n",
    "        print(\"I am a Tiger\")\n",
    "\n",
    "\n",
    "x=Tiger()\n",
    "x.animal_info()\n",
    "print(\" \")\n",
    "y=Lion()\n",
    "y.animal_info()\n",
    "\n",
    "# x.carnivore_info( )"
   ]
  }
 ],
 "metadata": {
  "kernelspec": {
   "display_name": "venv",
   "language": "python",
   "name": "python3"
  },
  "language_info": {
   "codemirror_mode": {
    "name": "ipython",
    "version": 3
   },
   "file_extension": ".py",
   "mimetype": "text/x-python",
   "name": "python",
   "nbconvert_exporter": "python",
   "pygments_lexer": "ipython3",
   "version": "3.10.6"
  }
 },
 "nbformat": 4,
 "nbformat_minor": 2
}
