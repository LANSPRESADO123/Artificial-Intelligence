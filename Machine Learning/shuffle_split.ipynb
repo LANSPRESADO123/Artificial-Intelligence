{
 "cells": [
  {
   "cell_type": "code",
   "execution_count": 9,
   "metadata": {},
   "outputs": [],
   "source": [
    "from sklearn.model_selection import ShuffleSplit\n",
    "from sklearn.model_selection import cross_val_score\n",
    "from sklearn.linear_model import LogisticRegression\n",
    "from pandas import read_csv\n",
    "\n",
    "import warnings\n",
    "warnings.filterwarnings('ignore')"
   ]
  },
  {
   "cell_type": "code",
   "execution_count": 6,
   "metadata": {},
   "outputs": [],
   "source": [
    "filename='./pima-indians-diabetes.data.csv'\n",
    "names = ['preg', 'plas', 'pres', 'skin', 'test', 'mass', 'pedi', 'age', 'class']\n",
    "df=read_csv(filename,names=names)\n",
    "array=df.values\n",
    "\n",
    "x=array[:,0:8]\n",
    "y=array[:,8]"
   ]
  },
  {
   "cell_type": "code",
   "execution_count": 10,
   "metadata": {},
   "outputs": [
    {
     "name": "stdout",
     "output_type": "stream",
     "text": [
      "Accuracy: 77.20472440944881 \n",
      "Standard deviation: 2.529814775813755\n"
     ]
    }
   ],
   "source": [
    "kfold = ShuffleSplit(n_splits=10, test_size=0.33) #ShuffleSplit will randomly sample your entire dataset during each \n",
    "#iteration to generate a training set and a test set.\n",
    "\n",
    "model = LogisticRegression()\n",
    "\n",
    "results = cross_val_score(model, x, y, cv=kfold)\n",
    "print(\"Accuracy:\",results.mean()*100.0,\"\\nStandard deviation:\", results.std()*100.0);"
   ]
  }
 ],
 "metadata": {
  "kernelspec": {
   "display_name": "venv",
   "language": "python",
   "name": "python3"
  },
  "language_info": {
   "codemirror_mode": {
    "name": "ipython",
    "version": 3
   },
   "file_extension": ".py",
   "mimetype": "text/x-python",
   "name": "python",
   "nbconvert_exporter": "python",
   "pygments_lexer": "ipython3",
   "version": "3.10.6"
  }
 },
 "nbformat": 4,
 "nbformat_minor": 2
}
