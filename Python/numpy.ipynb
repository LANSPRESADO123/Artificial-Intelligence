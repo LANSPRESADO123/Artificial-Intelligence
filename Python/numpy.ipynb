{
 "cells": [
  {
   "cell_type": "code",
   "execution_count": 1,
   "metadata": {},
   "outputs": [
    {
     "name": "stdout",
     "output_type": "stream",
     "text": [
      "[1 2 3 4 5]\n"
     ]
    }
   ],
   "source": [
    "import numpy as np\n",
    "arr=np.array([1,2,3,4,5])\n",
    "print(arr)"
   ]
  },
  {
   "cell_type": "markdown",
   "metadata": {},
   "source": [
    "- 2 Dimemsional array"
   ]
  },
  {
   "cell_type": "code",
   "execution_count": 6,
   "metadata": {},
   "outputs": [
    {
     "name": "stdout",
     "output_type": "stream",
     "text": [
      "[[1 2 6]\n",
      " [3 4 5]]\n"
     ]
    }
   ],
   "source": [
    "import numpy as np\n",
    "arr=np.array([[1,2,6],[3,4,5]])\n",
    "print(arr)"
   ]
  },
  {
   "cell_type": "code",
   "execution_count": 62,
   "metadata": {},
   "outputs": [
    {
     "name": "stdout",
     "output_type": "stream",
     "text": [
      "0\n",
      "1\n",
      "2\n",
      "3\n"
     ]
    },
    {
     "data": {
      "text/plain": [
       "array(10)"
      ]
     },
     "execution_count": 62,
     "metadata": {},
     "output_type": "execute_result"
    }
   ],
   "source": [
    "import numpy as np\n",
    "\n",
    "a=np.array(10) \n",
    "b=np.array([1,2,3,4]) #1D ARRAY\n",
    "c=np.array([[1,2,3],[4,5,6]]) #2D ARRAY\n",
    "d=np.array([[[1,2,3],[4,5,6]],[[7,8,9],[10,11,12]]]) #3D ARRAY\n",
    "\n",
    "print(a.ndim)\n",
    "print(b.ndim)\n",
    "print(c.ndim)\n",
    "print(d.ndim)\n",
    "\n"
   ]
  },
  {
   "cell_type": "code",
   "execution_count": 13,
   "metadata": {},
   "outputs": [
    {
     "name": "stdout",
     "output_type": "stream",
     "text": [
      "[[[[[1 2 3]]]]]\n"
     ]
    }
   ],
   "source": [
    "import numpy as np\n",
    "\n",
    "a=np.array([1,2,3] ,ndmin=5) #5D ARRAY\n",
    "print(a)"
   ]
  },
  {
   "cell_type": "code",
   "execution_count": 15,
   "metadata": {},
   "outputs": [
    {
     "name": "stdout",
     "output_type": "stream",
     "text": [
      "7\n"
     ]
    }
   ],
   "source": [
    "import numpy as np\n",
    "\n",
    "a=np.array([1,2,3,4])\n",
    "\n",
    "print(a[2]+a[3])"
   ]
  },
  {
   "cell_type": "code",
   "execution_count": 12,
   "metadata": {},
   "outputs": [
    {
     "name": "stdout",
     "output_type": "stream",
     "text": [
      "[b'1' b'2' b'3' b'4']\n",
      "|S1\n",
      "[1 2 3 4]\n",
      "int32\n"
     ]
    }
   ],
   "source": [
    "import numpy as np\n",
    "\n",
    "a=np.array([1,2,3,4],dtype='S') # changed the datatype to String  Note: Cannot the change the string array to integer\n",
    "print(a)\n",
    "b=a.astype('i') # created a new b by changing the datatype of the array b\n",
    "print(a.dtype)\n",
    "print(b)\n",
    "print(b.dtype)"
   ]
  },
  {
   "cell_type": "markdown",
   "metadata": {},
   "source": [
    "- shape"
   ]
  },
  {
   "cell_type": "code",
   "execution_count": 23,
   "metadata": {},
   "outputs": [
    {
     "name": "stdout",
     "output_type": "stream",
     "text": [
      "(3, 3)\n"
     ]
    }
   ],
   "source": [
    "x=np.array([[1,2,3],[4,5,6],[7,8,9]]) \n",
    "print(x.shape)"
   ]
  },
  {
   "cell_type": "markdown",
   "metadata": {},
   "source": [
    "- reshape"
   ]
  },
  {
   "cell_type": "code",
   "execution_count": 29,
   "metadata": {},
   "outputs": [
    {
     "name": "stdout",
     "output_type": "stream",
     "text": [
      "[[1 2 3]\n",
      " [4 5 6]\n",
      " [7 8 9]]\n"
     ]
    }
   ],
   "source": [
    "x=np.array([[1,2,3,4,5,6,7,8,9]]) \n",
    "print(x.reshape(3,3))"
   ]
  },
  {
   "cell_type": "code",
   "execution_count": 31,
   "metadata": {},
   "outputs": [
    {
     "name": "stdout",
     "output_type": "stream",
     "text": [
      "[1 2 3]\n",
      "[4 5 6]\n"
     ]
    }
   ],
   "source": [
    "a=np.array([[1,2,3],[4,5,6]])\n",
    "for x in a:\n",
    "    print(x)"
   ]
  },
  {
   "cell_type": "markdown",
   "metadata": {},
   "source": [
    "- Concatenation"
   ]
  },
  {
   "cell_type": "code",
   "execution_count": 33,
   "metadata": {},
   "outputs": [
    {
     "name": "stdout",
     "output_type": "stream",
     "text": [
      "[1 2 3 4 5 6]\n"
     ]
    }
   ],
   "source": [
    "a=np.array([1,2,3])\n",
    "b=np.array([4,5,6])\n",
    "c=np.concatenate((a,b))\n",
    "print(c)"
   ]
  },
  {
   "cell_type": "markdown",
   "metadata": {},
   "source": [
    "- stack"
   ]
  },
  {
   "cell_type": "code",
   "execution_count": 34,
   "metadata": {},
   "outputs": [
    {
     "name": "stdout",
     "output_type": "stream",
     "text": [
      "[[1 4]\n",
      " [2 5]\n",
      " [3 6]]\n"
     ]
    }
   ],
   "source": [
    "a=np.array([1,2,3])\n",
    "b=np.array([4,5,6])\n",
    "c=np.stack((a,b),axis=1)\n",
    "print(c)"
   ]
  },
  {
   "cell_type": "markdown",
   "metadata": {},
   "source": [
    "- Horizontal Stack"
   ]
  },
  {
   "cell_type": "code",
   "execution_count": 36,
   "metadata": {},
   "outputs": [
    {
     "name": "stdout",
     "output_type": "stream",
     "text": [
      "[1 2 3 4 5 6]\n"
     ]
    }
   ],
   "source": [
    "a=np.array([1,2,3])\n",
    "b=np.array([4,5,6])\n",
    "c=np.hstack((a,b))\n",
    "print(c)"
   ]
  },
  {
   "cell_type": "markdown",
   "metadata": {},
   "source": [
    "- Vertical stack"
   ]
  },
  {
   "cell_type": "code",
   "execution_count": 37,
   "metadata": {},
   "outputs": [
    {
     "name": "stdout",
     "output_type": "stream",
     "text": [
      "[[1 2 3]\n",
      " [4 5 6]]\n"
     ]
    }
   ],
   "source": [
    "a=np.array([1,2,3])\n",
    "b=np.array([4,5,6])\n",
    "c=np.vstack((a,b))\n",
    "print(c)"
   ]
  },
  {
   "cell_type": "markdown",
   "metadata": {},
   "source": [
    "- depth wise stack"
   ]
  },
  {
   "cell_type": "code",
   "execution_count": 40,
   "metadata": {},
   "outputs": [
    {
     "name": "stdout",
     "output_type": "stream",
     "text": [
      "[[[1 4]\n",
      "  [2 5]\n",
      "  [3 6]]]\n"
     ]
    }
   ],
   "source": [
    "a=np.array([1,2,3])\n",
    "b=np.array([4,5,6])\n",
    "c=np.dstack((a,b))\n",
    "print(c)"
   ]
  },
  {
   "cell_type": "markdown",
   "metadata": {},
   "source": [
    "- append"
   ]
  },
  {
   "cell_type": "code",
   "execution_count": 41,
   "metadata": {},
   "outputs": [
    {
     "name": "stdout",
     "output_type": "stream",
     "text": [
      "[1 2 3 4 5 6 7 8 9]\n"
     ]
    }
   ],
   "source": [
    "a=np.array([[1,2,3],[4,5,6]])\n",
    "b=np.append(a,[7,8,9])\n",
    "print(b)"
   ]
  },
  {
   "cell_type": "markdown",
   "metadata": {},
   "source": [
    "- appending two arrays"
   ]
  },
  {
   "cell_type": "code",
   "execution_count": 43,
   "metadata": {},
   "outputs": [
    {
     "name": "stdout",
     "output_type": "stream",
     "text": [
      "[1 2 3 4 5 6]\n"
     ]
    }
   ],
   "source": [
    "a=np.array([1,2,3])\n",
    "b=np.array([4,5,6])\n",
    "c=np.append(a,b)\n",
    "print(c)"
   ]
  },
  {
   "cell_type": "markdown",
   "metadata": {},
   "source": [
    "- copy()"
   ]
  },
  {
   "cell_type": "code",
   "execution_count": 8,
   "metadata": {},
   "outputs": [
    {
     "name": "stdout",
     "output_type": "stream",
     "text": [
      "[10  2  3]\n",
      "[1 2 3]\n"
     ]
    }
   ],
   "source": [
    "import numpy as np\n",
    "a=np.array([1,2,3])\n",
    "b=a.copy()\n",
    "a[0]=10\n",
    "print(a)\n",
    "print(b)"
   ]
  },
  {
   "cell_type": "markdown",
   "metadata": {},
   "source": [
    "- view()"
   ]
  },
  {
   "cell_type": "code",
   "execution_count": 9,
   "metadata": {},
   "outputs": [
    {
     "name": "stdout",
     "output_type": "stream",
     "text": [
      "[10  2  3]\n",
      "[10  2  3]\n"
     ]
    }
   ],
   "source": [
    "import numpy as np\n",
    "a=np.array([1,2,3])\n",
    "b=a.view()\n",
    "a[0]=10\n",
    "print(a)\n",
    "print(b)"
   ]
  },
  {
   "cell_type": "code",
   "execution_count": 15,
   "metadata": {},
   "outputs": [
    {
     "name": "stdout",
     "output_type": "stream",
     "text": [
      "[array([1, 2]), array([3, 4]), array([5, 6])]\n"
     ]
    }
   ],
   "source": [
    "x=np.array([1,2,3,4,5,6]) \n",
    "a=np.array_split(x,3)\n",
    "print(a)"
   ]
  },
  {
   "cell_type": "code",
   "execution_count": 21,
   "metadata": {},
   "outputs": [
    {
     "name": "stdout",
     "output_type": "stream",
     "text": [
      "[array([[1, 2],\n",
      "       [7, 8]]), array([[ 3,  4],\n",
      "       [ 9, 10]]), array([[ 5,  6],\n",
      "       [11, 12]])]\n"
     ]
    }
   ],
   "source": [
    "x=np.array([[1,2,3,4,5,6],[7,8,9,10,11,12]]) \n",
    "a=np.hsplit(x,3)\n",
    "print(a)"
   ]
  },
  {
   "cell_type": "code",
   "execution_count": 27,
   "metadata": {},
   "outputs": [
    {
     "name": "stdout",
     "output_type": "stream",
     "text": [
      "[array([[1, 2, 3],\n",
      "       [4, 5, 6]]), array([[ 7,  8,  9],\n",
      "       [10, 11, 12]]), array([[13, 14, 15],\n",
      "       [16, 17, 18]])]\n"
     ]
    }
   ],
   "source": [
    "x=np.array([[1,2,3],[4,5,6],[7,8,9],[10,11,12],[13,14,15],[16,17,18]]) \n",
    "a=np.vsplit(x,3)\n",
    "print(a)"
   ]
  },
  {
   "cell_type": "code",
   "execution_count": 30,
   "metadata": {},
   "outputs": [
    {
     "name": "stdout",
     "output_type": "stream",
     "text": [
      "[1 2 3 4 5 6]\n"
     ]
    }
   ],
   "source": [
    "x=np.array([1,2,3,4,5,6]) \n",
    "a=np.searchsorted(x,4.5)\n",
    "print(x)"
   ]
  },
  {
   "cell_type": "markdown",
   "metadata": {},
   "source": [
    "-sort"
   ]
  },
  {
   "cell_type": "code",
   "execution_count": 32,
   "metadata": {},
   "outputs": [
    {
     "name": "stdout",
     "output_type": "stream",
     "text": [
      "['a' 'b' 'c' 'd' 'e' 'f']\n"
     ]
    }
   ],
   "source": [
    "x=np.array(['a','c','f','b','d','e']) \n",
    "a=np.sort(x)\n",
    "print(a)"
   ]
  },
  {
   "cell_type": "code",
   "execution_count": 39,
   "metadata": {},
   "outputs": [
    {
     "data": {
      "text/plain": [
       "array([ 1,  3,  5,  7,  9, 11, 13, 15, 17, 19])"
      ]
     },
     "execution_count": 39,
     "metadata": {},
     "output_type": "execute_result"
    }
   ],
   "source": [
    "np.arange(1,20,2)\n"
   ]
  },
  {
   "cell_type": "code",
   "execution_count": 41,
   "metadata": {},
   "outputs": [
    {
     "data": {
      "text/plain": [
       "array([[ 0,  1,  2,  3,  4,  5],\n",
       "       [ 6,  7,  8,  9, 10, 11],\n",
       "       [12, 13, 14, 15, 16, 17],\n",
       "       [18, 19, 20, 21, 22, 23],\n",
       "       [24, 25, 26, 27, 28, 29],\n",
       "       [30, 31, 32, 33, 34, 35]])"
      ]
     },
     "execution_count": 41,
     "metadata": {},
     "output_type": "execute_result"
    }
   ],
   "source": [
    "r=np.arange(36)\n",
    "r.resize(6,6)\n",
    "r"
   ]
  },
  {
   "cell_type": "code",
   "execution_count": 58,
   "metadata": {},
   "outputs": [
    {
     "data": {
      "text/plain": [
       "array([[  1,   4,   9,  16,  25],\n",
       "       [ 36,  49,  64,  81, 100],\n",
       "       [121, 144, 169, 196, 225],\n",
       "       [256, 289, 324, 361, 400]])"
      ]
     },
     "execution_count": 58,
     "metadata": {},
     "output_type": "execute_result"
    }
   ],
   "source": [
    "a=np.arange(1,21)   \n",
    "b=a ** 2\n",
    "b.resize(4,5)\n",
    "b\n"
   ]
  },
  {
   "cell_type": "code",
   "execution_count": 100,
   "metadata": {},
   "outputs": [
    {
     "data": {
      "text/plain": [
       "array([[0., 0., 0., 0., 0., 0., 0., 0.],\n",
       "       [1., 1., 1., 1., 1., 1., 1., 1.],\n",
       "       [0., 0., 0., 0., 0., 0., 0., 0.],\n",
       "       [1., 1., 1., 1., 1., 1., 1., 1.],\n",
       "       [0., 0., 0., 0., 0., 0., 0., 0.],\n",
       "       [1., 1., 1., 1., 1., 1., 1., 1.],\n",
       "       [0., 0., 0., 0., 0., 0., 0., 0.],\n",
       "       [1., 1., 1., 1., 1., 1., 1., 1.]])"
      ]
     },
     "execution_count": 100,
     "metadata": {},
     "output_type": "execute_result"
    }
   ],
   "source": [
    "a=np.zeros((8,8))\n",
    "a[1::2]=1\n",
    "a\n"
   ]
  },
  {
   "cell_type": "code",
   "execution_count": 103,
   "metadata": {},
   "outputs": [
    {
     "name": "stdout",
     "output_type": "stream",
     "text": [
      "[[0. 0.]\n",
      " [1. 0.]]\n"
     ]
    },
    {
     "data": {
      "text/plain": [
       "array([[0., 1.],\n",
       "       [0., 0.]])"
      ]
     },
     "execution_count": 103,
     "metadata": {},
     "output_type": "execute_result"
    }
   ],
   "source": [
    "a=np.eye(2,k=1)\n",
    "b=np.eye(2,k=-1)\n",
    "print(b)\n",
    "a"
   ]
  },
  {
   "cell_type": "markdown",
   "metadata": {},
   "source": [
    "-Bernoulli Distribution\n",
    "-Uniform Distribution\n",
    "-Binomial Distribution\n",
    "-Normal Distribution\n",
    "    -empirical rule"
   ]
  },
  {
   "cell_type": "markdown",
   "metadata": {},
   "source": [
    "- seed()"
   ]
  },
  {
   "cell_type": "code",
   "execution_count": 5,
   "metadata": {},
   "outputs": [
    {
     "name": "stdout",
     "output_type": "stream",
     "text": [
      "0.8378805708954914\n"
     ]
    }
   ],
   "source": [
    "a=np.random.rand()\n",
    "print(a)"
   ]
  },
  {
   "cell_type": "code",
   "execution_count": 24,
   "metadata": {},
   "outputs": [
    {
     "name": "stdout",
     "output_type": "stream",
     "text": [
      "[[[8.22564439e-01 1.13680184e-01 6.99614817e-02 9.68734565e-01\n",
      "   9.54753093e-01 7.06783272e-01 6.43162501e-01 5.75319078e-02\n",
      "   4.27885360e-01 1.01942895e-01 3.01180446e-01 6.75953179e-01\n",
      "   4.81170358e-01 5.53567302e-01 3.23453121e-01 3.47930287e-01\n",
      "   2.40474602e-01 7.10360958e-01 5.37796736e-01 4.43247501e-01\n",
      "   6.59290816e-01 5.88933100e-01 4.75182064e-01 9.90279813e-01\n",
      "   6.34708809e-01 2.85721780e-01 7.55352183e-01 9.11568246e-03\n",
      "   1.77832592e-01 2.82791820e-01]\n",
      "  [4.32277158e-01 9.67308034e-01 3.30705777e-01 9.09260675e-01\n",
      "   2.53508106e-01 7.24481223e-01 5.10019238e-01 1.53881165e-01\n",
      "   2.93731561e-03 3.53347169e-01 2.37397742e-01 6.83298582e-01\n",
      "   9.08813104e-01 6.80522598e-01 8.00789169e-01 1.32871867e-02\n",
      "   9.69232346e-01 6.69541149e-01 8.65750231e-01 3.92871231e-01\n",
      "   4.40906718e-01 6.15794596e-02 3.52844190e-01 8.11376573e-01\n",
      "   7.55236233e-01 2.20069197e-01 7.77096541e-01 8.95552467e-01\n",
      "   7.30904441e-01 8.51601464e-01]\n",
      "  [5.81973124e-01 8.81613349e-01 5.94664507e-01 3.65592666e-01\n",
      "   9.07138642e-01 3.06550718e-01 4.85684711e-01 7.29592797e-01\n",
      "   2.22099545e-01 7.13941617e-01 1.07357235e-01 7.70829231e-01\n",
      "   8.03061859e-01 2.51067399e-01 2.72960724e-01 4.16241852e-01\n",
      "   5.28450421e-01 7.02183349e-01 5.22496608e-01 8.21380107e-01\n",
      "   5.80289463e-01 6.82355504e-01 3.15655921e-01 6.05905746e-01\n",
      "   7.38826388e-01 8.83515421e-01 7.79324176e-01 3.19210640e-01\n",
      "   3.66405519e-01 1.87965878e-01]\n",
      "  [9.74359760e-01 1.08370352e-01 4.51554652e-01 8.68422204e-01\n",
      "   4.66677632e-02 5.06375034e-01 3.30681478e-01 6.28927367e-01\n",
      "   8.57789990e-01 1.65112540e-01 4.36707700e-01 1.77081403e-01\n",
      "   6.51326704e-01 9.17169493e-01 6.04902547e-01 8.85035520e-01\n",
      "   5.54669046e-01 1.23047879e-01 7.12179925e-01 6.25959181e-01\n",
      "   2.14438223e-01 2.56981997e-01 6.77058080e-01 7.45596706e-01\n",
      "   8.46293854e-01 1.69260777e-01 4.60087174e-01 8.47667621e-01\n",
      "   3.14873166e-02 7.91293338e-02]\n",
      "  [8.90610549e-01 4.09509978e-01 8.06754075e-01 6.52721962e-01\n",
      "   4.88613584e-01 9.11279807e-01 7.40215906e-01 5.37491096e-01\n",
      "   7.83158885e-01 1.44507388e-01 4.50607149e-01 6.75376044e-01\n",
      "   7.91524394e-01 7.61655756e-01 1.22507493e-01 3.84716565e-01\n",
      "   5.89539608e-01 6.79776510e-01 8.54149224e-01 2.66990435e-01\n",
      "   2.56055064e-02 1.15573548e-01 1.31945137e-01 7.20313411e-01\n",
      "   2.23917390e-01 6.11417217e-01 9.05519007e-01 2.19353116e-01\n",
      "   6.36883829e-01 7.09033988e-01]\n",
      "  [8.25567004e-01 5.19470979e-01 9.35436424e-01 9.17496844e-01\n",
      "   1.49936074e-01 9.28690188e-01 4.52226099e-01 1.44062689e-01\n",
      "   2.04653147e-01 3.99457733e-01 2.48892760e-01 3.64882485e-01\n",
      "   3.07716108e-01 7.89805305e-01 2.68254267e-01 8.20348899e-01\n",
      "   4.47998557e-01 9.96686180e-01 4.85433617e-01 2.22894191e-01\n",
      "   4.90966306e-02 3.67328968e-01 3.46126280e-01 1.81194383e-01\n",
      "   8.29922972e-01 4.24454811e-01 9.35384447e-01 2.14154556e-01\n",
      "   4.08398860e-01 1.33036267e-01]\n",
      "  [9.44224057e-01 7.05644736e-02 9.95607952e-01 2.83284839e-01\n",
      "   2.18981542e-01 7.95150549e-01 4.94082162e-01 2.80792896e-02\n",
      "   4.02506597e-01 5.02746057e-01 4.07428102e-01 7.08800326e-01\n",
      "   4.76724032e-01 5.14432469e-01 2.39488101e-01 4.13729446e-01\n",
      "   5.60524882e-01 5.11560271e-01 4.93034195e-01 9.86566479e-01\n",
      "   9.14827152e-02 2.06223967e-01 5.07878152e-01 6.34429869e-01\n",
      "   1.92415450e-01 9.26495549e-01 9.25810039e-02 6.14624168e-01\n",
      "   5.18812392e-01 8.45877807e-02]\n",
      "  [9.42523600e-01 4.66980160e-01 6.22082784e-01 6.80462652e-01\n",
      "   1.14608231e-01 8.80313092e-01 1.00681918e-01 8.54879561e-01\n",
      "   7.59712168e-01 8.15169303e-01 4.22416037e-01 9.74674999e-02\n",
      "   5.31393827e-01 4.38365810e-01 8.83942911e-01 6.51566502e-01\n",
      "   3.04523143e-01 2.11657421e-01 1.14768989e-01 7.96124395e-01\n",
      "   6.61143759e-01 8.83128053e-01 8.59802040e-01 3.22686267e-01\n",
      "   1.07697751e-01 2.81511440e-01 8.52791883e-01 6.73558953e-01\n",
      "   6.06088416e-01 3.80435696e-01]\n",
      "  [4.82397921e-01 7.48057845e-01 3.80324409e-01 1.82302524e-01\n",
      "   2.87796729e-01 9.98760790e-02 9.30922203e-01 9.48398271e-01\n",
      "   3.09170844e-01 4.99217900e-01 3.21157276e-01 8.14967926e-01\n",
      "   4.66695721e-01 3.40699521e-01 8.65177731e-01 1.10757786e-01\n",
      "   5.17253190e-01 3.61795472e-01 7.01661676e-01 5.28644266e-01\n",
      "   4.36630696e-01 3.60450521e-01 5.30166844e-01 3.95115312e-01\n",
      "   3.91415001e-02 7.64473077e-01 7.55382974e-01 4.78311605e-01\n",
      "   3.59569363e-02 8.69772171e-01]\n",
      "  [6.99292790e-01 7.56221421e-01 9.47819298e-01 1.74703681e-01\n",
      "   6.77518312e-01 6.90232436e-01 2.07319488e-01 4.26030187e-01\n",
      "   4.85235027e-01 4.78046518e-01 5.07586453e-01 6.65377508e-01\n",
      "   8.47777958e-01 6.32817704e-02 6.99824999e-01 1.24019137e-01\n",
      "   4.80866921e-01 8.39497167e-01 4.56992632e-01 1.72017326e-01\n",
      "   6.56418250e-01 1.38540315e-01 7.31869192e-01 9.57962454e-02\n",
      "   4.39653736e-01 3.09306648e-01 7.05169651e-01 3.47213851e-01\n",
      "   3.02177534e-02 1.24991227e-01]\n",
      "  [4.59557293e-01 8.89344305e-03 3.08819278e-01 1.73240957e-01\n",
      "   9.31166727e-01 4.09483388e-01 1.71294503e-01 3.79312986e-01\n",
      "   7.83891559e-01 6.02717717e-02 8.45683404e-01 6.95171409e-01\n",
      "   6.18514828e-01 2.69809203e-01 8.44020980e-01 9.13565643e-01\n",
      "   1.51830495e-01 4.03811329e-01 2.81063438e-02 9.90509215e-01\n",
      "   3.99274171e-01 5.80427316e-01 1.34243339e-01 4.72381991e-01\n",
      "   9.32064499e-01 2.76714558e-01 8.74993010e-02 3.72780882e-01\n",
      "   1.12839502e-01 9.55843811e-01]\n",
      "  [2.48560557e-01 2.78761165e-01 5.50357619e-01 5.94403721e-01\n",
      "   1.27714315e-01 5.22259220e-01 9.58683337e-01 2.95625824e-01\n",
      "   2.41809247e-01 1.05581551e-01 4.73945311e-01 9.86045597e-01\n",
      "   1.06029992e-04 6.11437761e-01 9.27622299e-01 6.09901916e-01\n",
      "   4.43629325e-01 3.34102183e-01 1.19827602e-01 5.83187201e-01\n",
      "   5.49348940e-01 3.69506335e-01 6.84908977e-01 5.38163245e-01\n",
      "   4.22321270e-01 4.41167444e-01 6.50626152e-01 5.16735290e-01\n",
      "   1.82726385e-01 2.68472965e-02]\n",
      "  [9.54467803e-01 1.02899705e-01 6.12752219e-01 7.53024703e-01\n",
      "   5.07135558e-01 2.98721445e-01 1.52024772e-02 9.87699398e-01\n",
      "   2.97318871e-01 3.31411995e-01 9.86818115e-01 6.66787866e-01\n",
      "   4.79822052e-01 3.47266300e-01 8.14692148e-01 7.05452709e-01\n",
      "   3.54572584e-02 9.90944270e-01 8.30568164e-01 6.82733904e-01\n",
      "   5.89580629e-01 9.24204322e-01 8.18829791e-01 5.26799797e-01\n",
      "   5.44714433e-01 8.27584241e-01 6.58554844e-01 6.02591786e-01\n",
      "   2.15172641e-02 7.20894231e-01]\n",
      "  [8.22360238e-01 5.91053070e-02 8.50045507e-01 3.25372741e-01\n",
      "   9.30927826e-01 9.55200440e-01 8.37363147e-01 9.89941523e-02\n",
      "   8.20977086e-02 5.03722175e-01 1.32184714e-02 6.56900691e-01\n",
      "   1.04516474e-01 1.18634833e-01 3.29489236e-01 5.32526985e-01\n",
      "   9.06096482e-01 4.58422029e-02 1.40159344e-01 6.77965967e-01\n",
      "   5.40155096e-01 6.58513384e-01 3.58168739e-01 4.78998809e-01\n",
      "   5.52131859e-01 7.31717732e-01 9.29064635e-02 5.71226707e-01\n",
      "   1.95372775e-01 2.53983193e-02]\n",
      "  [2.54915132e-01 5.05040225e-02 5.96302847e-01 4.21885958e-01\n",
      "   6.61339149e-01 3.85128757e-03 2.81636784e-01 9.27869904e-01\n",
      "   5.63193089e-02 2.42058222e-01 7.10048086e-01 7.47249368e-01\n",
      "   3.47481955e-01 8.24640233e-01 2.57976678e-01 5.37635771e-02\n",
      "   3.16704475e-01 7.72832296e-01 3.48371081e-02 2.05538089e-01\n",
      "   2.12010245e-01 9.54743652e-02 8.18278680e-01 2.53722717e-01\n",
      "   4.89626993e-01 7.39132411e-02 4.02431776e-01 6.09711551e-01\n",
      "   1.63777131e-01 1.48921726e-01]\n",
      "  [5.84305825e-01 5.30341465e-01 4.79290897e-01 9.82118182e-01\n",
      "   3.61475806e-01 6.28571249e-01 6.72400178e-01 8.79222920e-02\n",
      "   9.71873224e-01 8.11968526e-01 4.86334507e-01 1.77309439e-01\n",
      "   5.89765520e-01 4.54890075e-01 5.85369158e-01 5.86299462e-01\n",
      "   1.02784517e-01 9.98575816e-01 6.01260028e-01 2.85022432e-01\n",
      "   7.13898471e-01 1.05566737e-01 7.94329155e-01 1.79811417e-01\n",
      "   9.81107795e-01 1.07119435e-01 9.93332924e-01 8.47967977e-01\n",
      "   7.11295862e-01 6.03387350e-01]\n",
      "  [4.95538147e-01 4.79704297e-01 1.21420459e-01 9.62894624e-01\n",
      "   9.82583982e-01 1.02284639e-01 5.42640962e-01 6.39958166e-01\n",
      "   1.06244657e-01 5.07633765e-01 3.74886476e-01 7.34879915e-01\n",
      "   3.26495436e-01 2.62848679e-01 9.62779429e-01 7.06315203e-01\n",
      "   4.25634595e-01 6.02036173e-01 1.38801147e-01 3.61695047e-01\n",
      "   3.48511525e-01 7.68387603e-01 6.69210965e-01 4.98825293e-01\n",
      "   8.07332647e-01 9.37900699e-01 4.13795047e-01 2.51503405e-01\n",
      "   3.63323356e-01 7.93450722e-01]\n",
      "  [8.82585822e-01 1.01266932e-01 3.40474658e-01 1.76837747e-01\n",
      "   8.04986611e-01 7.68999728e-02 1.04589674e-01 8.86571855e-01\n",
      "   1.26599889e-01 8.99094687e-01 9.66132404e-01 4.81505791e-01\n",
      "   1.52512075e-01 6.15783672e-01 1.88779842e-01 2.00949219e-01\n",
      "   2.68687653e-01 8.09762467e-01 8.50765559e-01 4.11316658e-01\n",
      "   6.29903964e-01 3.42824141e-01 1.27503216e-01 5.15943060e-01\n",
      "   2.78795970e-01 7.87247626e-01 9.95520967e-01 8.53155469e-01\n",
      "   2.51813667e-01 6.33288544e-01]\n",
      "  [8.97282893e-01 5.14553612e-01 8.54321943e-01 1.16625225e-03\n",
      "   3.38106398e-01 6.23948369e-01 9.67234805e-01 8.51737309e-01\n",
      "   1.91042284e-01 4.02039516e-01 4.08654262e-01 4.50940565e-01\n",
      "   5.93713467e-01 8.18314632e-01 6.97391268e-01 5.44768560e-01\n",
      "   1.73965091e-01 3.10869675e-02 4.05540461e-01 6.23004804e-02\n",
      "   9.86149383e-01 1.95214289e-01 9.20206538e-01 8.47887529e-01\n",
      "   8.75009444e-01 6.91443221e-01 3.81580306e-02 2.01733144e-01\n",
      "   2.13226383e-01 5.83763138e-01]\n",
      "  [9.02551579e-01 7.54498994e-02 9.40431295e-01 4.91663599e-01\n",
      "   2.70559288e-01 4.79886542e-01 9.19608263e-01 1.71556222e-01\n",
      "   5.06039271e-01 9.25614652e-01 3.55579680e-01 6.05676390e-01\n",
      "   7.26167408e-01 2.74990183e-01 4.72928903e-01 5.70257668e-01\n",
      "   9.39086446e-01 1.55120486e-02 7.86006302e-01 2.21666787e-01\n",
      "   2.42037297e-01 9.97385617e-01 3.50074641e-02 7.55809168e-01\n",
      "   1.70998629e-01 3.36385209e-01 9.16660728e-01 6.35223781e-01\n",
      "   2.88335300e-01 8.44571912e-01]]]\n"
     ]
    }
   ],
   "source": [
    "import numpy as np\n",
    "a=np.random.rand(1,20,30)\n",
    "print(a)"
   ]
  },
  {
   "cell_type": "code",
   "execution_count": 26,
   "metadata": {},
   "outputs": [
    {
     "data": {
      "text/plain": [
       "array([2, 7, 1, 3, 2, 2, 1, 2, 3, 5])"
      ]
     },
     "execution_count": 26,
     "metadata": {},
     "output_type": "execute_result"
    }
   ],
   "source": [
    "a=np.random.randint(low=1,high=8,size=10)\n",
    "a"
   ]
  },
  {
   "cell_type": "code",
   "execution_count": 127,
   "metadata": {},
   "outputs": [
    {
     "data": {
      "text/plain": [
       "array([[[ 0.74261106,  1.3403928 ,  0.17775783],\n",
       "        [ 2.27017517,  0.00766142,  0.66176341],\n",
       "        [-0.0196208 ,  0.23043243,  0.42585472]]])"
      ]
     },
     "execution_count": 127,
     "metadata": {},
     "output_type": "execute_result"
    }
   ],
   "source": [
    "a=np.random.randn(1,3,3)\n",
    "a"
   ]
  },
  {
   "cell_type": "code",
   "execution_count": 46,
   "metadata": {},
   "outputs": [
    {
     "data": {
      "text/plain": [
       "array([10, 11, 12, 13, 14, 15, 16, 17, 18, 19, 20, 21, 22, 23, 24, 25, 26,\n",
       "       27, 28, 29, 30, 31, 32, 33, 34, 35, 36, 37, 38, 39, 40, 41, 42, 43,\n",
       "       44, 45, 46, 47, 48, 49])"
      ]
     },
     "execution_count": 46,
     "metadata": {},
     "output_type": "execute_result"
    }
   ],
   "source": [
    "a=np.arange(10,50)\n",
    "a\n"
   ]
  },
  {
   "cell_type": "code",
   "execution_count": 31,
   "metadata": {},
   "outputs": [
    {
     "data": {
      "text/plain": [
       "array([[0, 1, 2],\n",
       "       [3, 4, 5],\n",
       "       [6, 7, 8]])"
      ]
     },
     "execution_count": 31,
     "metadata": {},
     "output_type": "execute_result"
    }
   ],
   "source": [
    "r=np.arange(9)\n",
    "r.resize(3,3)\n",
    "r"
   ]
  },
  {
   "cell_type": "code",
   "execution_count": 72,
   "metadata": {},
   "outputs": [
    {
     "name": "stdout",
     "output_type": "stream",
     "text": [
      "[0. 0. 0. 0. 0. 1. 0. 0. 0. 0.]\n"
     ]
    }
   ],
   "source": [
    "a=np.zeros(10)\n",
    "a[5]=1\n",
    "print(a)"
   ]
  },
  {
   "cell_type": "markdown",
   "metadata": {},
   "source": [
    "- Celsius to Fahrenheit "
   ]
  },
  {
   "cell_type": "code",
   "execution_count": 93,
   "metadata": {},
   "outputs": [
    {
     "name": "stdout",
     "output_type": "stream",
     "text": [
      "53.6\n"
     ]
    }
   ],
   "source": [
    "a=np.array(int(input(\"Enter Celsius degree\")))\n",
    "b=np.array(a*(9/5)+32)\n",
    "print(b)"
   ]
  },
  {
   "cell_type": "markdown",
   "metadata": {},
   "source": [
    "- Fahrenheit  to Celsius"
   ]
  },
  {
   "cell_type": "code",
   "execution_count": 94,
   "metadata": {},
   "outputs": [
    {
     "name": "stdout",
     "output_type": "stream",
     "text": [
      "-11.11111111111111\n"
     ]
    }
   ],
   "source": [
    "a=np.array(int(input(\"Enter Fahrenheit degree\")))\n",
    "b=np.array((a-32)*5/9)\n",
    "print(b)"
   ]
  },
  {
   "cell_type": "markdown",
   "metadata": {},
   "source": [
    "- Normal\n",
    " [random.normal()]"
   ]
  },
  {
   "cell_type": "code",
   "execution_count": 97,
   "metadata": {},
   "outputs": [
    {
     "data": {
      "text/plain": [
       "0.4187183108890532"
      ]
     },
     "execution_count": 97,
     "metadata": {},
     "output_type": "execute_result"
    }
   ],
   "source": [
    "a=np.random.normal()\n",
    "a"
   ]
  },
  {
   "cell_type": "markdown",
   "metadata": {},
   "source": [
    "- scale\n",
    "    - get the standard deviation of random values"
   ]
  },
  {
   "cell_type": "code",
   "execution_count": 107,
   "metadata": {},
   "outputs": [
    {
     "data": {
      "text/plain": [
       "-5.711390805302602"
      ]
     },
     "execution_count": 107,
     "metadata": {},
     "output_type": "execute_result"
    }
   ],
   "source": [
    "a=np.random.normal(scale=4.0)\n",
    "a"
   ]
  },
  {
   "cell_type": "markdown",
   "metadata": {},
   "source": [
    "- loc\n",
    "    - mean"
   ]
  },
  {
   "cell_type": "code",
   "execution_count": 96,
   "metadata": {},
   "outputs": [
    {
     "data": {
      "text/plain": [
       "0.997528087599242"
      ]
     },
     "execution_count": 96,
     "metadata": {},
     "output_type": "execute_result"
    }
   ],
   "source": [
    "a=np.random.normal(loc=2)\n",
    "a"
   ]
  },
  {
   "cell_type": "markdown",
   "metadata": {},
   "source": [
    "- size"
   ]
  },
  {
   "cell_type": "code",
   "execution_count": 112,
   "metadata": {},
   "outputs": [
    {
     "data": {
      "text/plain": [
       "array([-0.64618518, -0.89271058, -1.31964742,  0.52590411])"
      ]
     },
     "execution_count": 112,
     "metadata": {},
     "output_type": "execute_result"
    }
   ],
   "source": [
    "a=np.random.normal(size=4)\n",
    "a"
   ]
  },
  {
   "cell_type": "code",
   "execution_count": 113,
   "metadata": {},
   "outputs": [
    {
     "data": {
      "text/plain": [
       "array([1.50899462, 3.9584296 , 0.45141127, 1.65709111])"
      ]
     },
     "execution_count": 113,
     "metadata": {},
     "output_type": "execute_result"
    }
   ],
   "source": [
    "a=np.random.normal(loc=2,scale=5,size=4)\n",
    "a"
   ]
  },
  {
   "cell_type": "markdown",
   "metadata": {},
   "source": [
    "-UNIFORM\n",
    "    [random.uniform]"
   ]
  },
  {
   "cell_type": "code",
   "execution_count": 119,
   "metadata": {},
   "outputs": [
    {
     "data": {
      "text/plain": [
       "array([3.25981468, 3.37991995, 3.49072926, 4.58124921, 3.16019118,\n",
       "       3.75320291, 3.05698694, 4.05208832, 3.14607493, 4.16637583,\n",
       "       4.11101824, 3.30228697, 3.16053038, 4.97336997, 4.81443939,\n",
       "       3.39785143, 4.413643  , 4.29017929, 3.89852976, 3.73600175,\n",
       "       4.93412785, 3.34737036, 4.2206723 , 4.71716236, 4.24847503,\n",
       "       4.53647882, 3.1504633 , 4.87431273, 4.88553196, 4.59672358,\n",
       "       4.44387343, 4.24450847, 3.09826707, 3.71756234, 4.82153467,\n",
       "       4.51772534, 4.82750531, 3.84215996, 3.33972237, 3.90521325,\n",
       "       3.42275442, 3.40740738, 4.53213857, 3.77826389, 4.30302227,\n",
       "       3.10636821, 3.23305579, 3.93033764, 4.71719189, 3.0487569 ,\n",
       "       3.57881632, 4.78855574, 3.71400208, 4.64043345, 3.95859983,\n",
       "       4.61084939, 3.0632613 , 3.56065037, 3.00305773, 3.2757311 ,\n",
       "       4.85735404, 4.20203968, 4.18544639, 3.16107178, 4.41166665,\n",
       "       3.2731347 , 4.21106142, 4.03878346, 3.11154616, 3.42265608,\n",
       "       3.41604016, 3.28604912, 3.91035419, 4.10123193, 3.84350971,\n",
       "       4.39342013, 3.34807129, 4.58522719, 3.76055847, 4.60036166,\n",
       "       4.34382023, 3.81816951, 4.77416438, 4.31591161, 3.75724245,\n",
       "       3.63645073, 4.79916371, 4.23823828, 3.98017152, 4.71090052,\n",
       "       4.12688637, 3.93297555, 3.43739196, 4.85982913, 4.86070766,\n",
       "       4.36755852, 3.61215099, 3.24603788, 4.61696312, 4.36710166])"
      ]
     },
     "execution_count": 119,
     "metadata": {},
     "output_type": "execute_result"
    }
   ],
   "source": [
    "a=np.random.uniform(low=3,high=5,size=(100))\n",
    "a"
   ]
  },
  {
   "cell_type": "markdown",
   "metadata": {},
   "source": [
    "- Numpy program to multiply an array of dimension (2,2,3) by an array with dimesion (2,2)"
   ]
  },
  {
   "cell_type": "code",
   "execution_count": 74,
   "metadata": {},
   "outputs": [
    {
     "name": "stdout",
     "output_type": "stream",
     "text": [
      "[[[ 1  2  3]\n",
      "  [ 8 10 12]]\n",
      "\n",
      " [[21 24 27]\n",
      "  [40 44 48]]]\n"
     ]
    },
    {
     "data": {
      "text/plain": [
       "2"
      ]
     },
     "execution_count": 74,
     "metadata": {},
     "output_type": "execute_result"
    }
   ],
   "source": [
    "import numpy as np\n",
    "a=np.array([[[1, 2, 3], [4, 5, 6]],[[7, 8, 9], [10, 11, 12]]])\n",
    "a.reshape(2,2,3)\n",
    "# print(a)\n",
    "b=np.array([[1, 2],[3, 4]])\n",
    "# print(b)\n",
    "# print(a*b[:,:,])\n",
    "print(a*b.reshape(2,2,1))\n",
    "# b.reshape(1, 1, -1)\n",
    "\n"
   ]
  },
  {
   "cell_type": "markdown",
   "metadata": {},
   "source": [
    "- Numpy program to convert a list of numeric values into one dimesional numpy array"
   ]
  },
  {
   "cell_type": "code",
   "execution_count": 15,
   "metadata": {},
   "outputs": [
    {
     "data": {
      "text/plain": [
       "array([1, 2, 3, 4])"
      ]
     },
     "execution_count": 15,
     "metadata": {},
     "output_type": "execute_result"
    }
   ],
   "source": [
    "a=[1,2,3,4]\n",
    "np.array(a,ndmin=1)"
   ]
  },
  {
   "cell_type": "code",
   "execution_count": 53,
   "metadata": {},
   "outputs": [
    {
     "data": {
      "text/plain": [
       "0"
      ]
     },
     "execution_count": 53,
     "metadata": {},
     "output_type": "execute_result"
    }
   ],
   "source": [
    "a=4\n",
    "b=2\n",
    "b//a"
   ]
  },
  {
   "cell_type": "markdown",
   "metadata": {},
   "source": [
    "# Basic Mathematical Operations of NumPy array"
   ]
  },
  {
   "cell_type": "code",
   "execution_count": 87,
   "metadata": {},
   "outputs": [
    {
     "name": "stdout",
     "output_type": "stream",
     "text": [
      "[ 6  8 10 12]\n"
     ]
    }
   ],
   "source": [
    "import numpy as np\n",
    "a=np.array([1,2,3,4])\n",
    "b=np.array([5,6,7,8])\n",
    "print(a+b)"
   ]
  },
  {
   "cell_type": "code",
   "execution_count": 61,
   "metadata": {},
   "outputs": [
    {
     "name": "stdout",
     "output_type": "stream",
     "text": [
      "[4 4 4 4]\n"
     ]
    }
   ],
   "source": [
    "print(b-a)"
   ]
  },
  {
   "cell_type": "code",
   "execution_count": 64,
   "metadata": {},
   "outputs": [
    {
     "name": "stdout",
     "output_type": "stream",
     "text": [
      "[ 5 12 21 32]\n"
     ]
    }
   ],
   "source": [
    "print(a*b)"
   ]
  },
  {
   "cell_type": "markdown",
   "metadata": {},
   "source": [
    "[**]\n",
    "power"
   ]
  },
  {
   "cell_type": "code",
   "execution_count": 66,
   "metadata": {},
   "outputs": [
    {
     "data": {
      "text/plain": [
       "array([    1,    64,  2187, 65536])"
      ]
     },
     "execution_count": 66,
     "metadata": {},
     "output_type": "execute_result"
    }
   ],
   "source": [
    "a**b "
   ]
  },
  {
   "cell_type": "markdown",
   "metadata": {},
   "source": [
    "[//]\n",
    "floor division"
   ]
  },
  {
   "cell_type": "code",
   "execution_count": 84,
   "metadata": {},
   "outputs": [
    {
     "data": {
      "text/plain": [
       "array([5, 3, 2, 2])"
      ]
     },
     "execution_count": 84,
     "metadata": {},
     "output_type": "execute_result"
    }
   ],
   "source": [
    "b//a"
   ]
  },
  {
   "cell_type": "code",
   "execution_count": 89,
   "metadata": {},
   "outputs": [
    {
     "name": "stdout",
     "output_type": "stream",
     "text": [
      "1\n",
      "8\n"
     ]
    }
   ],
   "source": [
    "print(a.min())\n",
    "print(b.max())"
   ]
  },
  {
   "cell_type": "code",
   "execution_count": 83,
   "metadata": {},
   "outputs": [
    {
     "name": "stdout",
     "output_type": "stream",
     "text": [
      "10\n"
     ]
    },
    {
     "data": {
      "text/plain": [
       "26"
      ]
     },
     "execution_count": 83,
     "metadata": {},
     "output_type": "execute_result"
    }
   ],
   "source": [
    "print(a.sum())\n",
    "b.sum()"
   ]
  },
  {
   "cell_type": "markdown",
   "metadata": {},
   "source": [
    "[cumsum()]\n",
    "cumulative sum"
   ]
  },
  {
   "cell_type": "code",
   "execution_count": 85,
   "metadata": {},
   "outputs": [
    {
     "data": {
      "text/plain": [
       "array([ 1,  3,  6, 10])"
      ]
     },
     "execution_count": 85,
     "metadata": {},
     "output_type": "execute_result"
    }
   ],
   "source": [
    "a=np.array([1,2,3,4])\n",
    "a.cumsum()"
   ]
  },
  {
   "cell_type": "markdown",
   "metadata": {},
   "source": [
    "[cumprod()]\n",
    "cumulative product"
   ]
  },
  {
   "cell_type": "code",
   "execution_count": 86,
   "metadata": {},
   "outputs": [
    {
     "data": {
      "text/plain": [
       "array([ 1,  2,  6, 24])"
      ]
     },
     "execution_count": 86,
     "metadata": {},
     "output_type": "execute_result"
    }
   ],
   "source": [
    "a=np.array([1,2,3,4])\n",
    "a.cumprod()"
   ]
  },
  {
   "cell_type": "code",
   "execution_count": 93,
   "metadata": {},
   "outputs": [
    {
     "data": {
      "text/plain": [
       "array([[22, 22],\n",
       "       [ 8, 57],\n",
       "       [ 8, 23]])"
      ]
     },
     "execution_count": 93,
     "metadata": {},
     "output_type": "execute_result"
    }
   ],
   "source": [
    "import numpy as np\n",
    "a=np.array([[1, 23,45],[33, 41,98],[55,63,86]])\n",
    "np.diff(a)"
   ]
  },
  {
   "cell_type": "markdown",
   "metadata": {},
   "source": [
    "- square root"
   ]
  },
  {
   "cell_type": "code",
   "execution_count": 94,
   "metadata": {},
   "outputs": [
    {
     "data": {
      "text/plain": [
       "array([[1.        , 4.79583152, 6.70820393],\n",
       "       [5.74456265, 6.40312424, 9.89949494],\n",
       "       [7.41619849, 7.93725393, 9.2736185 ]])"
      ]
     },
     "execution_count": 94,
     "metadata": {},
     "output_type": "execute_result"
    }
   ],
   "source": [
    "np.sqrt(a)"
   ]
  },
  {
   "cell_type": "markdown",
   "metadata": {},
   "source": [
    "- square"
   ]
  },
  {
   "cell_type": "code",
   "execution_count": 95,
   "metadata": {},
   "outputs": [
    {
     "data": {
      "text/plain": [
       "array([[   1,  529, 2025],\n",
       "       [1089, 1681, 9604],\n",
       "       [3025, 3969, 7396]])"
      ]
     },
     "execution_count": 95,
     "metadata": {},
     "output_type": "execute_result"
    }
   ],
   "source": [
    "np.square(a)"
   ]
  },
  {
   "cell_type": "markdown",
   "metadata": {},
   "source": []
  },
  {
   "cell_type": "code",
   "execution_count": 102,
   "metadata": {},
   "outputs": [
    {
     "name": "stdout",
     "output_type": "stream",
     "text": [
      "Sum of the Array is  36\n",
      "Product of the Array is  40320\n",
      "Difference of the Array is  [[1 1 1]\n",
      " [1 1 1]]\n"
     ]
    }
   ],
   "source": [
    "x=np.array([[1,2,3,4],[5,6,7,8]])\n",
    "s=np.sum(x)\n",
    "p=np.prod(x)\n",
    "d=np.diff(x)\n",
    "print(\"Sum of the Array is \",s)\n",
    "print(\"Product of the Array is \",p)\n",
    "print(\"Difference of the Array is \",d)\n"
   ]
  },
  {
   "cell_type": "markdown",
   "metadata": {},
   "source": [
    "itemsize- "
   ]
  },
  {
   "cell_type": "code",
   "execution_count": 119,
   "metadata": {},
   "outputs": [
    {
     "data": {
      "text/plain": [
       "2"
      ]
     },
     "execution_count": 119,
     "metadata": {},
     "output_type": "execute_result"
    }
   ],
   "source": [
    "x=np.array([1,2,3,4],dtype=np.float16)\n",
    "x.itemsize"
   ]
  },
  {
   "cell_type": "markdown",
   "metadata": {},
   "source": [
    "nbytes= Total bytes consumed by the elements in an array"
   ]
  },
  {
   "cell_type": "code",
   "execution_count": 122,
   "metadata": {},
   "outputs": [
    {
     "data": {
      "text/plain": [
       "480"
      ]
     },
     "execution_count": 122,
     "metadata": {},
     "output_type": "execute_result"
    }
   ],
   "source": [
    "x=np.zeros((3,5,2),dtype=np.complex128)\n",
    "x.nbytes"
   ]
  }
 ],
 "metadata": {
  "kernelspec": {
   "display_name": "venv",
   "language": "python",
   "name": "python3"
  },
  "language_info": {
   "codemirror_mode": {
    "name": "ipython",
    "version": 3
   },
   "file_extension": ".py",
   "mimetype": "text/x-python",
   "name": "python",
   "nbconvert_exporter": "python",
   "pygments_lexer": "ipython3",
   "version": "3.10.6"
  }
 },
 "nbformat": 4,
 "nbformat_minor": 2
}
