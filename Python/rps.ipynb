{
 "cells": [
  {
   "cell_type": "markdown",
   "metadata": {},
   "source": [
    "# ROCK PAPER SCISSOR GAME USING RANDOM"
   ]
  },
  {
   "cell_type": "code",
   "execution_count": 2,
   "metadata": {},
   "outputs": [
    {
     "name": "stdout",
     "output_type": "stream",
     "text": [
      "You: Rock\n",
      "Computer:  paper\n",
      "Computer won\n"
     ]
    }
   ],
   "source": [
    "import random\n",
    "x=[\"rock\",\"paper\",\"scissor\"]\n",
    "a=int(input(\"Click 1 For Rock. 2 For Paper, 3 For Scissor\"))\n",
    "if a==1:\n",
    "    print(\"You: Rock\")\n",
    "    b=random.choice(x)\n",
    "    print(\"Computer: \",b)\n",
    "    if b==\"rock\":\n",
    "        print(\"Tie\")\n",
    "    elif b==\"paper\":\n",
    "        print(\"Computer won\")\n",
    "    else:\n",
    "        print(\"You won\")\n",
    "\n",
    "elif a==2:\n",
    "    print(\"You: Paper\")\n",
    "    b=random.choice(x)\n",
    "    print(\"Computer: \",b)\n",
    "    if b==\"paper\":\n",
    "        print(\"Tie\")\n",
    "    elif b==\"rock\":\n",
    "        print(\"You won\")\n",
    "    else:\n",
    "        print(\"Computer won\")\n",
    "\n",
    "else:\n",
    "    print(\"You: Scissor\")\n",
    "    b=random.choice(x)\n",
    "    print(\"Computer: \",b)\n",
    "    if b==\"scissor\":\n",
    "        print(\"Tie\")\n",
    "    elif b==\"rock\":\n",
    "        print(\"Computer won\")\n",
    "    else:\n",
    "        print(\"You won\")"
   ]
  }
 ],
 "metadata": {
  "kernelspec": {
   "display_name": "venv",
   "language": "python",
   "name": "python3"
  },
  "language_info": {
   "codemirror_mode": {
    "name": "ipython",
    "version": 3
   },
   "file_extension": ".py",
   "mimetype": "text/x-python",
   "name": "python",
   "nbconvert_exporter": "python",
   "pygments_lexer": "ipython3",
   "version": "3.10.6"
  }
 },
 "nbformat": 4,
 "nbformat_minor": 2
}
