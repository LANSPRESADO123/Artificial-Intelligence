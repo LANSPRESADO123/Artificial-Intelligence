{
 "cells": [
  {
   "cell_type": "code",
   "execution_count": 2,
   "metadata": {},
   "outputs": [
    {
     "name": "stdout",
     "output_type": "stream",
     "text": [
      "You are not eligible for the bonus of 5% in your salary\n"
     ]
    }
   ],
   "source": [
    "# name=input(\"Enter your name\")\n",
    "a=int(input(\"Enter your salary\"))\n",
    "b=int(input(\"Enter how many years you were in the service\"))\n",
    "if b>5:\n",
    "    print(\"You are eligible for the bonus of 5% in your salary\")\n",
    "else:\n",
    "    print(\"You are not eligible for the bonus of 5% in your salary\")"
   ]
  }
 ],
 "metadata": {
  "kernelspec": {
   "display_name": "venv",
   "language": "python",
   "name": "python3"
  },
  "language_info": {
   "codemirror_mode": {
    "name": "ipython",
    "version": 3
   },
   "file_extension": ".py",
   "mimetype": "text/x-python",
   "name": "python",
   "nbconvert_exporter": "python",
   "pygments_lexer": "ipython3",
   "version": "3.10.6"
  }
 },
 "nbformat": 4,
 "nbformat_minor": 2
}
