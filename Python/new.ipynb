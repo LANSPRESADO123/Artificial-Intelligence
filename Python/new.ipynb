{
 "cells": [
  {
   "cell_type": "code",
   "execution_count": null,
   "metadata": {},
   "outputs": [
    {
     "data": {
      "text/plain": [
       "'1'"
      ]
     },
     "execution_count": 12,
     "metadata": {},
     "output_type": "execute_result"
    }
   ],
   "source": [
    "x=\"1\"\n",
    "x"
   ]
  },
  {
   "cell_type": "code",
   "execution_count": null,
   "metadata": {},
   "outputs": [
    {
     "name": "stdout",
     "output_type": "stream",
     "text": [
      "a\n"
     ]
    },
    {
     "data": {
      "text/plain": [
       "21"
      ]
     },
     "execution_count": 26,
     "metadata": {},
     "output_type": "execute_result"
    }
   ],
   "source": [
    "x=[\"a\",\"b\",21]\n",
    "print(x[0])\n",
    "x[-1]"
   ]
  },
  {
   "cell_type": "code",
   "execution_count": null,
   "metadata": {},
   "outputs": [
    {
     "name": "stdout",
     "output_type": "stream",
     "text": [
      "['abc', 'def', 'ghi', 'jkl', 'mno']\n"
     ]
    },
    {
     "data": {
      "text/plain": [
       "['abc', 'hello', 'hi', 'mno']"
      ]
     },
     "execution_count": 29,
     "metadata": {},
     "output_type": "execute_result"
    }
   ],
   "source": [
    "\n",
    "x=[\"abc\",\"def\",\"ghi\",\"jkl\",\"mno\"]\n",
    "print(x)\n",
    "x[1:4]=[\"hello\",\"hi\"]\n",
    "x"
   ]
  },
  {
   "cell_type": "code",
   "execution_count": null,
   "metadata": {},
   "outputs": [
    {
     "name": "stdout",
     "output_type": "stream",
     "text": [
      "['abc', 'def', 'ghi', 'jkl', 'mno']\n"
     ]
    },
    {
     "data": {
      "text/plain": [
       "['abc', 'def', 'ghi', 'jkl', 'mno', 'hello']"
      ]
     },
     "execution_count": 31,
     "metadata": {},
     "output_type": "execute_result"
    }
   ],
   "source": [
    "#APPEND\n",
    "x=[\"abc\",\"def\",\"ghi\",\"jkl\",\"mno\"]\n",
    "print(x)\n",
    "x.append(\"hello\")\n",
    "x"
   ]
  },
  {
   "cell_type": "code",
   "execution_count": null,
   "metadata": {},
   "outputs": [
    {
     "name": "stdout",
     "output_type": "stream",
     "text": [
      "['abc', 'def', 'ghi', 'jkl', 'mno']\n"
     ]
    },
    {
     "data": {
      "text/plain": [
       "'def'"
      ]
     },
     "execution_count": 39,
     "metadata": {},
     "output_type": "execute_result"
    }
   ],
   "source": [
    "#POP\n",
    "x=[\"abc\",\"def\",\"ghi\",\"jkl\",\"mno\"]\n",
    "print(x)\n",
    "y=x.pop(1)\n",
    "x\n",
    "y"
   ]
  },
  {
   "cell_type": "code",
   "execution_count": 85,
   "metadata": {},
   "outputs": [
    {
     "name": "stdout",
     "output_type": "stream",
     "text": [
      "['abc', 'def', 'ghi', 'jkl', 'mno']\n"
     ]
    },
    {
     "data": {
      "text/plain": [
       "['abc', 'hi', 'def', 'ghi', 'jkl', 'mno']"
      ]
     },
     "execution_count": 85,
     "metadata": {},
     "output_type": "execute_result"
    }
   ],
   "source": [
    "#INSERT\n",
    "x=[\"abc\",\"def\",\"ghi\",\"jkl\",\"mno\"]\n",
    "print(x)\n",
    "x.insert(1,\"hi\")\n",
    "x"
   ]
  },
  {
   "cell_type": "code",
   "execution_count": null,
   "metadata": {},
   "outputs": [
    {
     "name": "stdout",
     "output_type": "stream",
     "text": [
      "['abc', 'cdf', 'hello']\n"
     ]
    },
    {
     "data": {
      "text/plain": [
       "['abc', 'cdf']"
      ]
     },
     "execution_count": 48,
     "metadata": {},
     "output_type": "execute_result"
    }
   ],
   "source": [
    "x=[\"abc\",\"cdf\"]\n",
    "y=x.copy()\n",
    "x.append(\"hello\")\n",
    "print(x)\n",
    "y\n"
   ]
  },
  {
   "cell_type": "code",
   "execution_count": null,
   "metadata": {},
   "outputs": [
    {
     "name": "stdout",
     "output_type": "stream",
     "text": [
      "['abc', 'cdf', 'hello', 'hello']\n"
     ]
    },
    {
     "data": {
      "text/plain": [
       "['abc', 'cdf', 'hello', 'hello']"
      ]
     },
     "execution_count": 50,
     "metadata": {},
     "output_type": "execute_result"
    }
   ],
   "source": [
    "x=[\"abc\",\"cdf\"]\n",
    "x=y\n",
    "x.append(\"hello\")\n",
    "print(x)\n",
    "y"
   ]
  },
  {
   "cell_type": "code",
   "execution_count": null,
   "metadata": {},
   "outputs": [
    {
     "data": {
      "text/plain": [
       "3"
      ]
     },
     "execution_count": 61,
     "metadata": {},
     "output_type": "execute_result"
    }
   ],
   "source": [
    "#COUNT\n",
    "x=[\"abc\",\"def\",\"ghi\",\"jkl\",\"mno\",\"abc\",\"def\",\"ghi\",\"jkl\",\"helloo\",\"mno\",\"abc\",\"def\",\"ghi\",\"jkl\",\"mno\"]\n",
    "x.count(\"abc\")"
   ]
  },
  {
   "cell_type": "code",
   "execution_count": null,
   "metadata": {},
   "outputs": [
    {
     "name": "stdout",
     "output_type": "stream",
     "text": [
      "abc\n",
      "def\n"
     ]
    }
   ],
   "source": [
    "#FOR LOOP\n",
    "x=[\"abc\",\"def\",\"ghi\",\"jkl\"]\n",
    "for i in x:\n",
    "    if i == \"ghi\":\n",
    "        break\n",
    "    print(i)"
   ]
  },
  {
   "cell_type": "code",
   "execution_count": null,
   "metadata": {},
   "outputs": [
    {
     "name": "stdout",
     "output_type": "stream",
     "text": [
      "abc\n",
      "def\n",
      "jkl\n"
     ]
    }
   ],
   "source": [
    "x=[\"abc\",\"def\",\"ghi\",\"jkl\"]\n",
    "for i in x:\n",
    "    if i == \"ghi\":\n",
    "        continue\n",
    "    print(i)"
   ]
  },
  {
   "cell_type": "code",
   "execution_count": 46,
   "metadata": {},
   "outputs": [
    {
     "name": "stdout",
     "output_type": "stream",
     "text": [
      "0 1 4 9 16 25 36 49 64 81 100 121 144 169 196 225 256 289 324 361 400 "
     ]
    }
   ],
   "source": [
    "\n",
    "for i in range(21):\n",
    "    print(i*i,end=\" \")"
   ]
  },
  {
   "cell_type": "code",
   "execution_count": null,
   "metadata": {},
   "outputs": [
    {
     "name": "stdout",
     "output_type": "stream",
     "text": [
      "paper\n"
     ]
    }
   ],
   "source": [
    "import random\n",
    "x=[\"stone\",\"paper\",\"scissor\"]\n",
    "print(random.choice(x))"
   ]
  },
  {
   "cell_type": "code",
   "execution_count": null,
   "metadata": {},
   "outputs": [
    {
     "name": "stdout",
     "output_type": "stream",
     "text": [
      "x is greater\n"
     ]
    }
   ],
   "source": [
    "x=10\n",
    "y=5\n",
    "if x>y:\n",
    "    print(\"x is greater\")\n",
    "else:\n",
    "    print(\"y is greater\")"
   ]
  },
  {
   "cell_type": "code",
   "execution_count": null,
   "metadata": {},
   "outputs": [
    {
     "name": "stdout",
     "output_type": "stream",
     "text": [
      "a is a positive number\n"
     ]
    }
   ],
   "source": [
    "a=int(input(\"Enter a number\"))\n",
    "if a>0:\n",
    "    print(\"a is a positive number\")\n",
    "elif a == 0:\n",
    "    print(\"a is Zero\")\n",
    "else:\n",
    "    print(\"a is a negative number\")"
   ]
  },
  {
   "cell_type": "code",
   "execution_count": null,
   "metadata": {},
   "outputs": [
    {
     "name": "stdout",
     "output_type": "stream",
     "text": [
      "6 is greater \n"
     ]
    }
   ],
   "source": [
    "a=int(input(\"Enter a number\"))\n",
    "b=int(input(\"Enter a number\"))\n",
    "c=int(input(\"Enter a number\"))\n",
    "if a>c & a>b:\n",
    "    print(a,\"is greater\")\n",
    "elif b>a & b>c:\n",
    "    print(b,\"is greater\")\n",
    "else:\n",
    "    print(c,\"is greater \")"
   ]
  },
  {
   "cell_type": "code",
   "execution_count": null,
   "metadata": {},
   "outputs": [],
   "source": [
    "a = 0\n",
    "while a <= 20:\n",
    "    if a%2 != 0:\n",
    "        print(a, end=\" \")\n",
    "    a+=1"
   ]
  },
  {
   "cell_type": "code",
   "execution_count": 42,
   "metadata": {},
   "outputs": [
    {
     "name": "stdout",
     "output_type": "stream",
     "text": [
      "1 2 3 4 5 6 "
     ]
    }
   ],
   "source": [
    "a = 1\n",
    "while a < 10:\n",
    "    print(a,end=\" \")\n",
    "    if a == 6:\n",
    "        break\n",
    "    a+=1"
   ]
  },
  {
   "cell_type": "code",
   "execution_count": 41,
   "metadata": {},
   "outputs": [
    {
     "name": "stdout",
     "output_type": "stream",
     "text": [
      "2 3 4 5 7 8 9 10 "
     ]
    }
   ],
   "source": [
    "a = 1\n",
    "while a < 10:\n",
    "    a+=1\n",
    "    if a == 6:\n",
    "        continue\n",
    "    print(a,end=\" \")\n",
    "    "
   ]
  },
  {
   "cell_type": "code",
   "execution_count": 77,
   "metadata": {},
   "outputs": [
    {
     "data": {
      "text/plain": [
       "['mno', 'jkl', 'ghi', 'def', 'abc']"
      ]
     },
     "execution_count": 77,
     "metadata": {},
     "output_type": "execute_result"
    }
   ],
   "source": [
    "x=[\"abc\",\"def\",\"ghi\",\"jkl\",\"mno\"]\n",
    "x.reverse()\n",
    "x"
   ]
  },
  {
   "cell_type": "code",
   "execution_count": 46,
   "metadata": {},
   "outputs": [],
   "source": [
    "x=[\"abc\",\"def\",\"ghi\",\"jkl\",\"mno\"]\n",
    "x.sort()"
   ]
  },
  {
   "cell_type": "markdown",
   "metadata": {},
   "source": [
    "# LIST COMPREHENSION\n",
    "\n",
    "TO INSERT IN LIST\n",
    " - insert\n",
    " - extend\n",
    " - append"
   ]
  },
  {
   "cell_type": "code",
   "execution_count": 51,
   "metadata": {},
   "outputs": [
    {
     "name": "stdout",
     "output_type": "stream",
     "text": [
      "[0, 2, 4, 6, 8, 10, 12, 14, 16, 18] "
     ]
    }
   ],
   "source": [
    "a=[]\n",
    "for i in range(0,20):\n",
    "    if i%2 == 0:\n",
    "        a.append(i)\n",
    "print(a,end=\" \")"
   ]
  },
  {
   "cell_type": "code",
   "execution_count": 56,
   "metadata": {},
   "outputs": [
    {
     "data": {
      "text/plain": [
       "[2, 4, 6, 8, 10, 12, 14, 16, 18]"
      ]
     },
     "execution_count": 56,
     "metadata": {},
     "output_type": "execute_result"
    }
   ],
   "source": [
    "a=[number for number in range(1,20) if number%2 ==0]\n",
    "a"
   ]
  },
  {
   "cell_type": "code",
   "execution_count": 58,
   "metadata": {},
   "outputs": [
    {
     "name": "stdout",
     "output_type": "stream",
     "text": [
      "[1, 3, 5, 7, 9, 11, 13, 15, 17, 19] "
     ]
    }
   ],
   "source": [
    "a=[]\n",
    "for i in range(0,20):\n",
    "    if i%2 != 0:\n",
    "        a.append(i)\n",
    "print(a,end=\" \")"
   ]
  },
  {
   "cell_type": "code",
   "execution_count": 7,
   "metadata": {},
   "outputs": [
    {
     "name": "stdout",
     "output_type": "stream",
     "text": [
      "[1, 3, 5, 7, 9, 11, 13, 15, 17, 19]\n"
     ]
    },
    {
     "data": {
      "text/plain": [
       "[1, 3, 5, 7, 9, 11, 13, 15, 17, 19]"
      ]
     },
     "execution_count": 7,
     "metadata": {},
     "output_type": "execute_result"
    }
   ],
   "source": [
    "a=[number for number in range(1,20) if number%2 !=0]\n",
    "print(a)\n",
    "a"
   ]
  },
  {
   "cell_type": "code",
   "execution_count": 52,
   "metadata": {},
   "outputs": [
    {
     "name": "stdout",
     "output_type": "stream",
     "text": [
      "Length of the Array b is  6\n",
      "b[3] 4\n",
      "array('i', [1, 2, 3]) "
     ]
    }
   ],
   "source": [
    "import array as abc\n",
    "a=abc.array('i',[1,2,3])\n",
    "b=abc.array('b',[-1,2,3,4,5,6])\n",
    "print(\"Length of the Array b is \",len(b))\n",
    "print(\"b[3]\",b[3])\n",
    "print(a,end=\" \")\n"
   ]
  },
  {
   "cell_type": "markdown",
   "metadata": {},
   "source": [
    "# TUPLE\n",
    "\n",
    "- immutable\n",
    "- allow duplicates\n",
    "\n",
    "Data Cant be inserted into a tuple\n",
    "\n",
    "TO INSERT IN TUPLE\n",
    " - Convert to List"
   ]
  },
  {
   "cell_type": "code",
   "execution_count": 59,
   "metadata": {},
   "outputs": [
    {
     "name": "stdout",
     "output_type": "stream",
     "text": [
      "Tuple ('a', 'b', 'c', 12, 1.5)\n",
      "List ['a', 'b', 'c', 12, 1.5]\n"
     ]
    }
   ],
   "source": [
    "a=(\"a\",\"b\",\"c\",12,1.5) #Tuple\n",
    "b=[\"a\",\"b\",\"c\",12,1.5] #List\n",
    "print(\"Tuple\",a)\n",
    "print(\"List\",b)\n",
    "\n"
   ]
  },
  {
   "cell_type": "code",
   "execution_count": 76,
   "metadata": {},
   "outputs": [
    {
     "name": "stdout",
     "output_type": "stream",
     "text": [
      "a[0] = a\n",
      "Length = 5\n",
      "('b', 'c', 12)\n"
     ]
    }
   ],
   "source": [
    "a=(\"a\",\"b\",\"c\",12,1.5)\n",
    "print(\"a[0] =\",a[0])\n",
    "print(\"Length =\",len(a))\n",
    "print(a[1:4])"
   ]
  },
  {
   "cell_type": "code",
   "execution_count": 75,
   "metadata": {},
   "outputs": [
    {
     "name": "stdout",
     "output_type": "stream",
     "text": [
      "('b', 1.5, 6, 6)\n",
      "a[start:end:step(to skip)]\n"
     ]
    }
   ],
   "source": [
    "a=(\"a\",\"b\",\"c\",12,1.5,43,6,6,5,3,6,3,7,)\n",
    "print(a[1:13:3])\n",
    "print(\"a[start:end:step(to skip)]\")"
   ]
  },
  {
   "cell_type": "code",
   "execution_count": 84,
   "metadata": {},
   "outputs": [
    {
     "name": "stdout",
     "output_type": "stream",
     "text": [
      "Before Appending\n",
      "['a', 'b', 'c', 12, 1.5]\n",
      "After Appending\n",
      "['a', 'b', 'c', 12, 1.5, 'hello']\n"
     ]
    }
   ],
   "source": [
    "a=(\"a\",\"b\",\"c\",12,1.5)\n",
    "b=list(a) #Converted Tuple into a List\n",
    "print(\"Before Appending\")\n",
    "print(b)\n",
    "b.append(\"hello\")\n",
    "print(\"After Appending\")\n",
    "print(b)"
   ]
  },
  {
   "cell_type": "code",
   "execution_count": 96,
   "metadata": {},
   "outputs": [
    {
     "name": "stdout",
     "output_type": "stream",
     "text": [
      "<class 'tuple'>\n",
      "<class 'str'>\n",
      "<class 'tuple'>\n"
     ]
    }
   ],
   "source": [
    "a=\"hello\",\"world\"\n",
    "b=\"hello\"\n",
    "c=\"hello\",\n",
    "print(type(a))\n",
    "print(type(b))\n",
    "print(type(c))"
   ]
  },
  {
   "cell_type": "code",
   "execution_count": 105,
   "metadata": {},
   "outputs": [
    {
     "name": "stdout",
     "output_type": "stream",
     "text": [
      "2 65\n",
      "20\n"
     ]
    },
    {
     "data": {
      "text/plain": [
       "10"
      ]
     },
     "execution_count": 105,
     "metadata": {},
     "output_type": "execute_result"
    }
   ],
   "source": [
    "a=(\"apple\",\"orange\",\"cherry\",2,43,65,2)\n",
    "(*abc,blue,green)=a\n",
    "print(green,blue)\n",
    "abc\n"
   ]
  },
  {
   "cell_type": "code",
   "execution_count": 112,
   "metadata": {},
   "outputs": [
    {
     "name": "stdout",
     "output_type": "stream",
     "text": [
      "Before Swapping\n",
      "a= 10\n",
      "b= 20\n",
      "After Swapping\n",
      "a= 20\n",
      "b= 10\n"
     ]
    }
   ],
   "source": [
    "#ANCHOR - SWAPPING\n",
    "\n",
    "a,b=10,20 \n",
    "print(\"Before Swapping\")\n",
    "print(\"a=\",a)\n",
    "print(\"b=\",b)\n",
    "b,a=a,b\n",
    "\n",
    "print(\"After Swapping\")\n",
    "print(\"a=\",a)\n",
    "print(\"b=\",b)"
   ]
  },
  {
   "cell_type": "markdown",
   "metadata": {},
   "source": [
    "zip() Function"
   ]
  },
  {
   "cell_type": "code",
   "execution_count": 119,
   "metadata": {},
   "outputs": [
    {
     "data": {
      "text/plain": [
       "[(1, 'hello'), (2, 'world')]"
      ]
     },
     "execution_count": 119,
     "metadata": {},
     "output_type": "execute_result"
    }
   ],
   "source": [
    "a=[1,2,3]\n",
    "b=\"hello\",\"world\"\n",
    "list(zip(a,b))"
   ]
  },
  {
   "cell_type": "markdown",
   "metadata": {},
   "source": [
    "Write a pgm  to count the repeated items in a tuple "
   ]
  },
  {
   "cell_type": "code",
   "execution_count": 122,
   "metadata": {},
   "outputs": [
    {
     "data": {
      "text/plain": [
       "3"
      ]
     },
     "execution_count": 122,
     "metadata": {},
     "output_type": "execute_result"
    }
   ],
   "source": [
    "x=\"abc\",\"def\",\"ghi\",\"jkl\",\"mno\",\"abc\",\"def\",\"ghi\",\"jkl\",\"helloo\",\"mno\",\"abc\",\"def\",\"ghi\",\"jkl\",\"mno\"\n",
    "x.count(\"abc\")"
   ]
  },
  {
   "cell_type": "code",
   "execution_count": 133,
   "metadata": {},
   "outputs": [
    {
     "name": "stdout",
     "output_type": "stream",
     "text": [
      "True\n",
      "False\n"
     ]
    },
    {
     "data": {
      "text/plain": [
       "False"
      ]
     },
     "execution_count": 133,
     "metadata": {},
     "output_type": "execute_result"
    }
   ],
   "source": [
    "a=1,2,3,4\n",
    "print(1 in a)\n",
    "print(2 not in a)\n",
    "5 in a"
   ]
  },
  {
   "cell_type": "markdown",
   "metadata": {},
   "source": [
    "Inverse zip() Function"
   ]
  },
  {
   "cell_type": "code",
   "execution_count": 135,
   "metadata": {},
   "outputs": [
    {
     "name": "stdout",
     "output_type": "stream",
     "text": [
      "('hello', 'world', 'hi')\n",
      "(1200, 100, 1800)\n"
     ]
    }
   ],
   "source": [
    "a=(\"hello\",1200),(\"world\",100),(\"hi\",1800)\n",
    "name,number=zip(*a)\n",
    "print(name)\n",
    "print(number)"
   ]
  },
  {
   "cell_type": "markdown",
   "metadata": {},
   "source": [
    "# SETS\n",
    "\n",
    " - A set can contain different data types\n",
    " - Sets cannot have two items with the same value\n",
    " - True and 1 is considered the same value\n",
    " - False and 0 is considered the same value\n",
    " - unindexed\n",
    " - unordered\n",
    " - unchangable\n",
    "  "
   ]
  },
  {
   "cell_type": "code",
   "execution_count": 14,
   "metadata": {},
   "outputs": [
    {
     "data": {
      "text/plain": [
       "{3, 4, 5, True, 'World', 'apple', 'hello'}"
      ]
     },
     "execution_count": 14,
     "metadata": {},
     "output_type": "execute_result"
    }
   ],
   "source": [
    "a={\"apple\",\"hello\",3,4,5,\"World\",True}  #True=1 and False=0\n",
    "a"
   ]
  },
  {
   "cell_type": "code",
   "execution_count": 18,
   "metadata": {},
   "outputs": [
    {
     "data": {
      "text/plain": [
       "{3, 4, 5, 'World', 'apple', 'hello'}"
      ]
     },
     "execution_count": 18,
     "metadata": {},
     "output_type": "execute_result"
    }
   ],
   "source": [
    "a={\"apple\",\"hello\",3,4,5,\"World\",\"World\",\"apple\"}  #Duplicate values are considered as one\n",
    "a"
   ]
  },
  {
   "cell_type": "code",
   "execution_count": 19,
   "metadata": {},
   "outputs": [
    {
     "name": "stdout",
     "output_type": "stream",
     "text": [
      "True\n"
     ]
    }
   ],
   "source": [
    "a={\"apple\",\"hello\",3,4,5,\"World\",\"World\",\"apple\"}  \n",
    "print(\"apple\" in a) # To check if a string is available in the set"
   ]
  },
  {
   "cell_type": "markdown",
   "metadata": {},
   "source": [
    "- Difference between Sets [.difference()]"
   ]
  },
  {
   "cell_type": "code",
   "execution_count": 31,
   "metadata": {},
   "outputs": [
    {
     "name": "stdout",
     "output_type": "stream",
     "text": [
      "{a-b} =  {'World', 4, 5, 'hello'}\n",
      "{a-b} =  {'World', 4, 5, 'hello'}\n",
      "{b-a} {56, 'HI', 34, 'computer'}\n",
      "{b-a} {56, 'HI', 34, 'computer'}\n"
     ]
    }
   ],
   "source": [
    "a={\"apple\",\"hello\",3,4,5,\"World\",\"World\",\"apple\"}  \n",
    "b={3,\"computer\",34,56,\"HI\",\"apple\"}\n",
    "print(\"{a-b} = \",a.difference(b))  \n",
    "            #OR\n",
    "print(\"{a-b} = \",a-b)\n",
    "\n",
    "print(\"{b-a}\",b.difference(a))  \n",
    "            #OR\n",
    "print(\"{b-a}\",b-a)"
   ]
  },
  {
   "cell_type": "markdown",
   "metadata": {},
   "source": [
    "- Difference between Sets [.symmetric_difference()]"
   ]
  },
  {
   "cell_type": "code",
   "execution_count": 35,
   "metadata": {},
   "outputs": [
    {
     "name": "stdout",
     "output_type": "stream",
     "text": [
      "{4, 5, 'computer', 'HI', 34, 'hello', 'World', 56}\n"
     ]
    }
   ],
   "source": [
    "a={\"apple\",\"hello\",3,4,5,\"World\",\"World\",\"apple\"}  \n",
    "b={3,\"computer\",34,56,\"HI\",\"apple\"}\n",
    "print(a.symmetric_difference(b)) "
   ]
  },
  {
   "cell_type": "markdown",
   "metadata": {},
   "source": [
    "- Remove Set Items [.discard()]"
   ]
  },
  {
   "cell_type": "code",
   "execution_count": 34,
   "metadata": {},
   "outputs": [
    {
     "name": "stdout",
     "output_type": "stream",
     "text": [
      "{3, 4, 5, 'hello', 'apple', 'World'}\n"
     ]
    },
    {
     "data": {
      "text/plain": [
       "{3, 4, 5, 'World', 'hello'}"
      ]
     },
     "execution_count": 34,
     "metadata": {},
     "output_type": "execute_result"
    }
   ],
   "source": [
    "a={\"apple\",\"hello\",3,4,5,\"World\",\"World\",\"apple\"}  \n",
    "print(a)\n",
    "a.discard(\"apple\")\n",
    "a"
   ]
  },
  {
   "cell_type": "markdown",
   "metadata": {},
   "source": [
    "- Add an Item to the set [.add()]"
   ]
  },
  {
   "cell_type": "code",
   "execution_count": 36,
   "metadata": {},
   "outputs": [
    {
     "name": "stdout",
     "output_type": "stream",
     "text": [
      "{3, 4, 5, 'hello', 'apple', 'World'}\n"
     ]
    },
    {
     "data": {
      "text/plain": [
       "{3, 4, 5, 'World', 'apple', 'hello', 'orange'}"
      ]
     },
     "execution_count": 36,
     "metadata": {},
     "output_type": "execute_result"
    }
   ],
   "source": [
    "a={\"apple\",\"hello\",3,4,5,\"World\",\"World\",\"apple\"}  \n",
    "print(a)\n",
    "a.add(\"orange\")\n",
    "a"
   ]
  },
  {
   "cell_type": "markdown",
   "metadata": {},
   "source": [
    "- Union of sets [.union()]"
   ]
  },
  {
   "cell_type": "code",
   "execution_count": 45,
   "metadata": {},
   "outputs": [
    {
     "name": "stdout",
     "output_type": "stream",
     "text": [
      "{1, 2, 3, 4, 5, 6, 'ghi', 'def', 'abc'}\n"
     ]
    }
   ],
   "source": [
    "a={1,2,3}\n",
    "b={4,5,6}\n",
    "c={\"abc\",\"def\",\"ghi\"}\n",
    "print(a.union(b,c))"
   ]
  },
  {
   "cell_type": "markdown",
   "metadata": {},
   "source": [
    "- Subset and Superset [.issubset()]"
   ]
  },
  {
   "cell_type": "code",
   "execution_count": 51,
   "metadata": {},
   "outputs": [
    {
     "name": "stdout",
     "output_type": "stream",
     "text": [
      "True\n",
      "True\n"
     ]
    }
   ],
   "source": [
    "a={1,2,3}\n",
    "b={4,5,6,7,8,1,2,3}\n",
    "print(a.issubset(b)) \n",
    "print(b.issuperset(a))"
   ]
  },
  {
   "cell_type": "markdown",
   "metadata": {},
   "source": [
    "- Disjoint [.isdisjoint()]\n",
    "- two sets are not connected(dont have any common elements)"
   ]
  },
  {
   "cell_type": "code",
   "execution_count": 53,
   "metadata": {},
   "outputs": [
    {
     "name": "stdout",
     "output_type": "stream",
     "text": [
      "True\n"
     ]
    }
   ],
   "source": [
    "a={1,2,3}\n",
    "b={4,5,6,7,8}\n",
    "print(a.isdisjoint(b))"
   ]
  },
  {
   "cell_type": "markdown",
   "metadata": {},
   "source": [
    "-Intersection [.intersection()]\n",
    "-common elements"
   ]
  },
  {
   "cell_type": "code",
   "execution_count": 55,
   "metadata": {},
   "outputs": [
    {
     "name": "stdout",
     "output_type": "stream",
     "text": [
      "{1, 2}\n"
     ]
    }
   ],
   "source": [
    "a={1,2,3}\n",
    "b={4,5,6,7,8,1,2}\n",
    "print(a.intersection(b))"
   ]
  },
  {
   "cell_type": "markdown",
   "metadata": {},
   "source": [
    "# DICTIONARIES\n",
    "\n",
    "dict{\n",
    "    \"key\":\"value\",\n",
    "}\n",
    "\n",
    "[.keys]\n",
    "[.get()]\n"
   ]
  },
  {
   "cell_type": "code",
   "execution_count": 71,
   "metadata": {},
   "outputs": [
    {
     "name": "stdout",
     "output_type": "stream",
     "text": [
      "Name : shafi\n",
      "Age : 21\n",
      "Year : 2003\n",
      "Married : False\n"
     ]
    }
   ],
   "source": [
    "dict={\n",
    "    \"Name\":\"shafi\",\n",
    "    \"Age\":21,    \n",
    "    \"Year\":2003,    \n",
    "    \"Married\":False,    \n",
    "}\n",
    "for key,value in dict.items():\n",
    "    print(key,\":\",value)"
   ]
  },
  {
   "cell_type": "markdown",
   "metadata": {},
   "source": [
    "-pop\n",
    "\n",
    "[.pop(key)] To remove a specific key and value\n",
    "[.popitem()] To remove the last key and value"
   ]
  },
  {
   "cell_type": "code",
   "execution_count": 106,
   "metadata": {},
   "outputs": [
    {
     "name": "stdout",
     "output_type": "stream",
     "text": [
      "{'Name': 'shafi', 'Year': 2003, 'Married': False}\n"
     ]
    }
   ],
   "source": [
    "dict={\n",
    "    \"Name\":\"shafi\",\n",
    "    \"Age\":21,\n",
    "    \"Year\":2003,    \n",
    "    \"Married\":False,    \n",
    "}\n",
    "dict.pop(\"Age\")\n",
    "print(dict)"
   ]
  },
  {
   "cell_type": "markdown",
   "metadata": {},
   "source": [
    "# LAMBDA"
   ]
  },
  {
   "cell_type": "code",
   "execution_count": 3,
   "metadata": {},
   "outputs": [
    {
     "name": "stdout",
     "output_type": "stream",
     "text": [
      "13\n"
     ]
    }
   ],
   "source": [
    "x= lambda a,b:a+b\n",
    "print(x(5,8))"
   ]
  },
  {
   "cell_type": "markdown",
   "metadata": {},
   "source": [
    "- Lambda with map()"
   ]
  },
  {
   "cell_type": "code",
   "execution_count": 18,
   "metadata": {},
   "outputs": [
    {
     "data": {
      "text/plain": [
       "[42.8, 37.4, 42.8]"
      ]
     },
     "execution_count": 18,
     "metadata": {},
     "output_type": "execute_result"
    }
   ],
   "source": [
    "a=(6,3,6)\n",
    "list(map(lambda x:(float(9)/5)*x +32,a))"
   ]
  },
  {
   "cell_type": "markdown",
   "metadata": {},
   "source": [
    "- lambda with filter()"
   ]
  },
  {
   "cell_type": "code",
   "execution_count": 16,
   "metadata": {},
   "outputs": [
    {
     "data": {
      "text/plain": [
       "[0, 2, 8, 34]"
      ]
     },
     "execution_count": 16,
     "metadata": {},
     "output_type": "execute_result"
    }
   ],
   "source": [
    "fib=(0,1,1,2,3,5,8,13,21,34,55)\n",
    "list(filter(lambda x: x % 2 ==0, fib))"
   ]
  },
  {
   "cell_type": "code",
   "execution_count": 27,
   "metadata": {},
   "outputs": [
    {
     "data": {
      "text/plain": [
       "[2, 4, 6, 8, 10, 12, 14, 16, 18, 20, 22, 24, 26, 28, 30, 32, 34, 36, 38]"
      ]
     },
     "execution_count": 27,
     "metadata": {},
     "output_type": "execute_result"
    }
   ],
   "source": [
    "a=[number for number in range(1,40)]\n",
    "list(filter(lambda x: x % 2 ==0, a))\n"
   ]
  },
  {
   "cell_type": "markdown",
   "metadata": {},
   "source": [
    "- lambda with reduce()"
   ]
  },
  {
   "cell_type": "code",
   "execution_count": 30,
   "metadata": {},
   "outputs": [
    {
     "data": {
      "text/plain": [
       "4648"
      ]
     },
     "execution_count": 30,
     "metadata": {},
     "output_type": "execute_result"
    }
   ],
   "source": [
    "from functools import reduce\n",
    "reduce(lambda x,y:x+y,[500,294,3848,1,2,3])"
   ]
  },
  {
   "cell_type": "code",
   "execution_count": 34,
   "metadata": {},
   "outputs": [
    {
     "data": {
      "text/plain": [
       "23"
      ]
     },
     "execution_count": 34,
     "metadata": {},
     "output_type": "execute_result"
    }
   ],
   "source": [
    "a=lambda x,y:x if x>y else y\n",
    "reduce(a,[23,4,5])"
   ]
  },
  {
   "cell_type": "markdown",
   "metadata": {},
   "source": [
    "# ENUMERATE"
   ]
  },
  {
   "cell_type": "code",
   "execution_count": null,
   "metadata": {},
   "outputs": [],
   "source": []
  }
 ],
 "metadata": {
  "kernelspec": {
   "display_name": "Python 3 (ipykernel)",
   "language": "python",
   "name": "python3"
  },
  "language_info": {
   "codemirror_mode": {
    "name": "ipython",
    "version": 3
   },
   "file_extension": ".py",
   "mimetype": "text/x-python",
   "name": "python",
   "nbconvert_exporter": "python",
   "pygments_lexer": "ipython3",
   "version": "3.10.6"
  }
 },
 "nbformat": 4,
 "nbformat_minor": 4
}
