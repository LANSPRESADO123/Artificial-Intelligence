{
 "cells": [
  {
   "cell_type": "markdown",
   "metadata": {},
   "source": [
    "# CLASS\n",
    "-Constructor\n",
    "    [__init__]\n",
    "    "
   ]
  },
  {
   "cell_type": "markdown",
   "metadata": {},
   "source": [
    "-Defining a class"
   ]
  },
  {
   "cell_type": "code",
   "execution_count": 8,
   "metadata": {},
   "outputs": [
    {
     "name": "stdout",
     "output_type": "stream",
     "text": [
      "5\n"
     ]
    }
   ],
   "source": [
    "class MyClass:\n",
    "    x=5\n"
   ]
  },
  {
   "cell_type": "markdown",
   "metadata": {},
   "source": [
    "-Created an object named \"a\" and printed the value of x"
   ]
  },
  {
   "cell_type": "code",
   "execution_count": 10,
   "metadata": {},
   "outputs": [
    {
     "name": "stdout",
     "output_type": "stream",
     "text": [
      "5\n"
     ]
    }
   ],
   "source": [
    "\n",
    "a=MyClass()\n",
    "print(a.x)"
   ]
  },
  {
   "cell_type": "markdown",
   "metadata": {},
   "source": [
    "-Constructor"
   ]
  },
  {
   "cell_type": "code",
   "execution_count": 12,
   "metadata": {},
   "outputs": [
    {
     "name": "stdout",
     "output_type": "stream",
     "text": [
      "Shafi\n",
      "20\n"
     ]
    }
   ],
   "source": [
    "class Person:\n",
    "    def __init__(self,name,age):\n",
    "        self.n=name\n",
    "        self.a=age\n",
    "p1=Person(\"Shafi\",20)\n",
    "print(p1.n)\n",
    "print(p1.a)"
   ]
  },
  {
   "cell_type": "markdown",
   "metadata": {},
   "source": [
    "# INHERITANCE"
   ]
  },
  {
   "cell_type": "code",
   "execution_count": 5,
   "metadata": {},
   "outputs": [
    {
     "name": "stdout",
     "output_type": "stream",
     "text": [
      "Full Name : John Doe\n"
     ]
    }
   ],
   "source": [
    "class Person:\n",
    "    def __init__(self,fname,lname):\n",
    "        self.firstname=fname\n",
    "        self.lastname=lname\n",
    "    def name(self):\n",
    "        print(\"Full Name :\",end=\" \")\n",
    "        print(self.firstname,self.lastname)\n",
    "x=Person(\"John\",\"Doe\")\n",
    "x.name()"
   ]
  },
  {
   "cell_type": "code",
   "execution_count": 6,
   "metadata": {},
   "outputs": [
    {
     "name": "stdout",
     "output_type": "stream",
     "text": [
      "Full Name : Joyboy Nika\n"
     ]
    }
   ],
   "source": [
    "class Student(Person):\n",
    "    def __init__(self, fname, lname):\n",
    "        # super().__init__(fname, lname)\n",
    "        Person.__init__(self, fname, lname)\n",
    "\n",
    "x=Person(\"Joyboy\",\"Nika\")\n",
    "x.name()"
   ]
  },
  {
   "cell_type": "markdown",
   "metadata": {},
   "source": [
    "-using super function"
   ]
  },
  {
   "cell_type": "code",
   "execution_count": 11,
   "metadata": {},
   "outputs": [],
   "source": [
    "class Student(Person):\n",
    "    def __init__(self, fname, lname):\n",
    "        super().__init__(fname, lname)"
   ]
  },
  {
   "cell_type": "markdown",
   "metadata": {},
   "source": [
    "-adding properties called year"
   ]
  },
  {
   "cell_type": "code",
   "execution_count": 45,
   "metadata": {},
   "outputs": [
    {
     "name": "stdout",
     "output_type": "stream",
     "text": [
      "Full Name : Joyboy Nika\n"
     ]
    },
    {
     "data": {
      "text/plain": [
       "2014"
      ]
     },
     "execution_count": 45,
     "metadata": {},
     "output_type": "execute_result"
    }
   ],
   "source": [
    "class Student(Person):\n",
    "    def __init__(self, fname, lname):\n",
    "        super().__init__(fname, lname)\n",
    "        self.year=2014\n",
    "x=Student(\"Joyboy\",\"Nika\")\n",
    "x.name()\n",
    "x.year"
   ]
  },
  {
   "cell_type": "code",
   "execution_count": 47,
   "metadata": {},
   "outputs": [
    {
     "name": "stdout",
     "output_type": "stream",
     "text": [
      "Welcome Joyboy Nika to the class of 2030\n"
     ]
    }
   ],
   "source": [
    "class Person:#Parent class\n",
    "    def __init__(self,fname,lname):\n",
    "        self.firstname=fname\n",
    "        self.lastname=lname\n",
    "    def name(self):\n",
    "        print(\"Full Name :\",end=\" \")\n",
    "        print(self.firstname,self.lastname)\n",
    "\n",
    "class Student(Person):#Child class\n",
    "    def __init__(self, fname, lname,year):\n",
    "        super().__init__(fname, lname)\n",
    "        self.graduationyear=year\n",
    "    def welcome(self):\n",
    "        print(\"Welcome\",self.firstname,self.lastname,\"to the class of\",self.graduationyear)\n",
    "\n",
    "x=Student(\"Joyboy\",\"Nika\",2030)\n",
    "x.welcome()"
   ]
  },
  {
   "cell_type": "markdown",
   "metadata": {},
   "source": [
    "A class 'Person' with 'name' as its instance attribute"
   ]
  },
  {
   "cell_type": "code",
   "execution_count": 53,
   "metadata": {},
   "outputs": [
    {
     "name": "stdout",
     "output_type": "stream",
     "text": [
      "Hello, my name is John\n"
     ]
    }
   ],
   "source": [
    "class Person:\n",
    "    def __init__(self, name):\n",
    "        self.name = name #instance attibute\n",
    "    def start(self):\n",
    "        print(f\"Hello, my name is {self.name}\")\n",
    "\n",
    "x=Person(\"John\")\n",
    "x.start()"
   ]
  },
  {
   "cell_type": "markdown",
   "metadata": {},
   "source": [
    "Class Vehicles without any variables or methods "
   ]
  },
  {
   "cell_type": "code",
   "execution_count": null,
   "metadata": {},
   "outputs": [],
   "source": [
    "class Vehicles:\n",
    "    pass"
   ]
  },
  {
   "cell_type": "markdown",
   "metadata": {},
   "source": [
    "The child class 'Car' is inheriting all the methods and variables of the Parent class 'Vehicle'"
   ]
  },
  {
   "cell_type": "code",
   "execution_count": 58,
   "metadata": {},
   "outputs": [
    {
     "name": "stdout",
     "output_type": "stream",
     "text": [
      "Ford is started\n"
     ]
    }
   ],
   "source": [
    "class Vehicle:\n",
    "    def __init__(self,name):\n",
    "        self.name=name\n",
    "    def start(self):\n",
    "        print(self.name,\"is started\")\n",
    "        \n",
    "\n",
    "class Car(Vehicle):\n",
    "    def __init__(self,carname):\n",
    "        self.carname=carname\n",
    "        super().__init__(carname)\n",
    "\n",
    "x=Car(\"Ford\")\n",
    "x.start()"
   ]
  },
  {
   "cell_type": "markdown",
   "metadata": {},
   "source": [
    "# MULTIPLE INHERITANCE"
   ]
  },
  {
   "cell_type": "code",
   "execution_count": 77,
   "metadata": {},
   "outputs": [
    {
     "name": "stdout",
     "output_type": "stream",
     "text": [
      "Tiger\n",
      "Animal\n",
      "Carnivore\n"
     ]
    }
   ],
   "source": [
    "class Animal:\n",
    "    def animal_info(self):\n",
    "        print(\"Animal\")\n",
    "class Carnivore:\n",
    "    def carnivore_info(self):\n",
    "        print(\"Carnivore\")\n",
    "\n",
    "class Tiger(Animal,Carnivore):\n",
    "    def __init__(self):\n",
    "        print(\"Tiger\")\n",
    "\n",
    "\n",
    "x=Tiger()\n",
    "x.animal_info()\n",
    "x.carnivore_info( )"
   ]
  },
  {
   "cell_type": "code",
   "execution_count": 96,
   "metadata": {},
   "outputs": [
    {
     "name": "stdout",
     "output_type": "stream",
     "text": [
      " I am a Mammal\n",
      " I am a Marine Animal\n",
      " I am a Whale , I am a Mammal and a Marine Animal\n"
     ]
    }
   ],
   "source": [
    "class Mammal:\n",
    "    def animal_info(self):\n",
    "        print(\" I am a Mammal\")\n",
    "class MarineAnimal:\n",
    "    def marineanimal_info(self):\n",
    "        print(\" I am a Marine Animal\")\n",
    "\n",
    "class BlueWhale(Mammal,MarineAnimal):\n",
    "    def __init__(self):\n",
    "        print(\" I am a Whale , I am a Mammal and a Marine Animal\")\n",
    "\n",
    "x=Mammal()\n",
    "x.animal_info()\n",
    "y=MarineAnimal()\n",
    "y.marineanimal_info( )\n",
    "z=BlueWhale()\n",
    "# z.animal_info()\n",
    "# z.marineanimal_info( )"
   ]
  },
  {
   "cell_type": "code",
   "execution_count": 4,
   "metadata": {},
   "outputs": [
    {
     "name": "stdout",
     "output_type": "stream",
     "text": [
      " I am a Mammal\n",
      " I am a Whale , I am a Mammal and a Marine Animal\n"
     ]
    }
   ],
   "source": [
    "class Mammal:\n",
    "    def __init__ (self):\n",
    "        print(\" I am a Mammal\")\n",
    "class MarineAnimal:\n",
    "    def __init__(self):\n",
    "        print(\" I am a Marine Animal\")\n",
    "\n",
    "class BlueWhale(Mammal,MarineAnimal):\n",
    "    def __init__(self):\n",
    "        super().__init__()\n",
    "        print(\" I am a Whale , I am a Mammal and a Marine Animal\")\n",
    "\n",
    "# x=Mammal()\n",
    "# x.animal_info()\n",
    "# y=MarineAnimal()\n",
    "# y.marineanimal_info( )\n",
    "\n",
    "z=BlueWhale()\n",
    "\n"
   ]
  },
  {
   "cell_type": "markdown",
   "metadata": {},
   "source": [
    "# MULTILEVEL INHERITANCE"
   ]
  },
  {
   "cell_type": "code",
   "execution_count": 8,
   "metadata": {},
   "outputs": [
    {
     "name": "stdout",
     "output_type": "stream",
     "text": [
      "I am a Tiger\n",
      "I am an Animal\n",
      " \n",
      "I am a Lion\n",
      "I am an Animal\n"
     ]
    }
   ],
   "source": [
    "class Animal:\n",
    "    def animal_info(self):\n",
    "        print(\"I am an Animal\")\n",
    "\n",
    "class Lion(Animal):\n",
    "    def __init__ (self):\n",
    "        super().__init__()\n",
    "        print(\"I am a Lion\")\n",
    "\n",
    "class Tiger(Animal):\n",
    "    def __init__(self):\n",
    "        print(\"I am a Tiger\")\n",
    "\n",
    "\n",
    "x=Tiger()\n",
    "x.animal_info()\n",
    "print(\" \")\n",
    "y=Lion()\n",
    "y.animal_info()\n",
    "\n",
    "# x.carnivore_info( )"
   ]
  },
  {
   "cell_type": "markdown",
   "metadata": {},
   "source": [
    "# Iterators"
   ]
  },
  {
   "cell_type": "code",
   "execution_count": 11,
   "metadata": {},
   "outputs": [
    {
     "name": "stdout",
     "output_type": "stream",
     "text": [
      "Hello\n",
      "Hi\n",
      "World\n"
     ]
    }
   ],
   "source": [
    "a=(\"Hello\",\"Hi\",\"World\") #Tuple\n",
    "b=iter(a) #Iterator\n",
    "print(next(b))\n",
    "print(next(b))\n",
    "print(next(b))"
   ]
  },
  {
   "cell_type": "code",
   "execution_count": 17,
   "metadata": {},
   "outputs": [
    {
     "name": "stdout",
     "output_type": "stream",
     "text": [
      "h\n",
      "e\n",
      "l\n",
      "l\n",
      "o\n"
     ]
    }
   ],
   "source": [
    "a=\"hello\" #String\n",
    "b=iter(a)\n",
    "print(next(b))\n",
    "print(next(b))\n",
    "print(next(b))\n",
    "print(next(b))\n",
    "print(next(b))"
   ]
  },
  {
   "cell_type": "markdown",
   "metadata": {},
   "source": [
    "# Encapsulation\n",
    "\n",
    "-public member\n",
    "    [self.name=name]\n",
    "\n",
    "-private member\n",
    "    [self.__name=name]\n",
    "    \n",
    "-protected member\n",
    "    [self._name=name]"
   ]
  },
  {
   "cell_type": "code",
   "execution_count": 8,
   "metadata": {},
   "outputs": [],
   "source": [
    "class Computer:\n",
    "    def __init__(self):\n",
    "        self.__maxprice=900\n",
    "\n",
    "    def sell( self):\n",
    "        print(f\"Max Price=\",(self.__maxprice))\n",
    "\n",
    "    def setmaxprice(self,price):\n",
    "        self.__maxprice=price"
   ]
  },
  {
   "cell_type": "code",
   "execution_count": 9,
   "metadata": {},
   "outputs": [
    {
     "name": "stdout",
     "output_type": "stream",
     "text": [
      "Max Price= 900\n"
     ]
    }
   ],
   "source": [
    "x=Computer()\n",
    "x.sell()"
   ]
  },
  {
   "cell_type": "code",
   "execution_count": 12,
   "metadata": {},
   "outputs": [
    {
     "name": "stdout",
     "output_type": "stream",
     "text": [
      "Max Price= 100\n"
     ]
    }
   ],
   "source": [
    "x.setmaxprice(100)\n",
    "x.sell()"
   ]
  },
  {
   "cell_type": "markdown",
   "metadata": {},
   "source": [
    "# POLYMORPHISM\n",
    "\n",
    " [len()]"
   ]
  },
  {
   "cell_type": "code",
   "execution_count": 1,
   "metadata": {},
   "outputs": [
    {
     "name": "stdout",
     "output_type": "stream",
     "text": [
      "Animal Started\n",
      "I am an Animal\n",
      "Animal Started\n",
      "I am a Lion\n",
      "Animal Started\n",
      "I am a Tiger\n"
     ]
    }
   ],
   "source": [
    "class Animal:\n",
    "    def start(self):\n",
    "        print(\"Animal Started\")\n",
    "\n",
    "    def animal_info(self):\n",
    "        print(\"I am an Animal\")\n",
    "\n",
    "class Lion(Animal):\n",
    "    def animal_info(self):\n",
    "        print(\"I am a Lion\")\n",
    "\n",
    "class Tiger(Animal):\n",
    "    def animal_info(self):\n",
    "        print(\"I am a Tiger\")\n",
    "\n",
    "\n",
    "obj_Animal=Animal()\n",
    "obj_Lion=Lion()\n",
    "obj_Tiger=Tiger=Tiger()\n",
    "\n",
    "obj_Animal.start()\n",
    "obj_Animal.animal_info()\n",
    "\n",
    "obj_Lion.start()\n",
    "obj_Lion.animal_info()\n",
    "\n",
    "obj_Tiger.start()\n",
    "obj_Tiger.animal_info()\n",
    "\n"
   ]
  },
  {
   "cell_type": "code",
   "execution_count": 3,
   "metadata": {},
   "outputs": [
    {
     "name": "stdout",
     "output_type": "stream",
     "text": [
      "\n",
      "I am a Lion\n",
      "I am a Tiger\n",
      "\n",
      "I am a Lion\n",
      "I am a Tiger\n"
     ]
    }
   ],
   "source": [
    "for Animal in (obj_Lion,obj_Tiger):\n",
    "    print()\n",
    "    obj_Lion.animal_info()\n",
    "    obj_Tiger.animal_info()"
   ]
  },
  {
   "cell_type": "markdown",
   "metadata": {},
   "source": [
    "# Syntax Errors and Exception Handling"
   ]
  },
  {
   "cell_type": "code",
   "execution_count": 6,
   "metadata": {},
   "outputs": [
    {
     "name": "stdout",
     "output_type": "stream",
     "text": [
      "Name Error occured , Some Variable isn't defined\n"
     ]
    }
   ],
   "source": [
    "def hello():\n",
    "    try:\n",
    "        a=\"Hello\"\n",
    "        return Hello\n",
    "    except NameError:\n",
    "        return \"Name Error occured , Some Variable isn't defined\"\n",
    "print(hello())"
   ]
  },
  {
   "cell_type": "code",
   "execution_count": 8,
   "metadata": {},
   "outputs": [
    {
     "name": "stdout",
     "output_type": "stream",
     "text": [
      "You enetered a number, Good \n"
     ]
    }
   ],
   "source": [
    "import sys\n",
    "try:\n",
    "    number=int(input(\"Enter a number\"))\n",
    "except ValueError:\n",
    "    print(\"Enter a number, Idiot\")\n",
    "    sys.exit()\n",
    "\n",
    "print(\"You enetered a number, Good \")"
   ]
  },
  {
   "cell_type": "code",
   "execution_count": 9,
   "metadata": {},
   "outputs": [
    {
     "name": "stdout",
     "output_type": "stream",
     "text": [
      "3\n",
      "Index out of range\n"
     ]
    }
   ],
   "source": [
    "a=[1,3,5]\n",
    "try:\n",
    "    print(a[1])\n",
    "    print(a[5])\n",
    "except IndexError:\n",
    "    print(\"Index out of range\")"
   ]
  },
  {
   "cell_type": "code",
   "execution_count": 13,
   "metadata": {},
   "outputs": [],
   "source": [
    "try:\n",
    "    a=int(input(\"Enter a positive number\"))\n",
    "\n",
    "    if a<0:\n",
    "        raise IndexError(\"Bro, Enter a positive number \")\n",
    "    \n",
    "except:\n",
    "    print(\"You Entered a positive number\")"
   ]
  },
  {
   "cell_type": "markdown",
   "metadata": {},
   "source": [
    "-finally\n",
    "\n",
    "   [finally]"
   ]
  },
  {
   "cell_type": "code",
   "execution_count": 14,
   "metadata": {},
   "outputs": [
    {
     "name": "stdout",
     "output_type": "stream",
     "text": [
      "3\n",
      "Index out of range\n",
      "Good Job , man\n"
     ]
    }
   ],
   "source": [
    "a=[1,3,5]\n",
    "try:\n",
    "    print(a[1])\n",
    "    print(a[5])\n",
    "except IndexError:\n",
    "    print(\"Index out of range\")\n",
    "finally:\n",
    "    print(\"Good Job , man\")"
   ]
  },
  {
   "cell_type": "markdown",
   "metadata": {},
   "source": [
    "# FILE HANDLING"
   ]
  },
  {
   "cell_type": "markdown",
   "metadata": {},
   "source": [
    "-Create a file named file.txt\n",
    " and write a text \"Hello\" "
   ]
  },
  {
   "cell_type": "code",
   "execution_count": null,
   "metadata": {},
   "outputs": [],
   "source": [
    "x=a= open(\"file.txt\",\"w\")\n",
    "x.write(\"Hello\")\n"
   ]
  },
  {
   "cell_type": "markdown",
   "metadata": {},
   "source": [
    "Read the file named file.txt"
   ]
  },
  {
   "cell_type": "code",
   "execution_count": 33,
   "metadata": {},
   "outputs": [
    {
     "name": "stdout",
     "output_type": "stream",
     "text": [
      "Hello\n"
     ]
    }
   ],
   "source": [
    "x=a= open(\"file.txt\",\"r+\")\n",
    "print(x.read())"
   ]
  },
  {
   "cell_type": "markdown",
   "metadata": {},
   "source": [
    "-open and read a file"
   ]
  },
  {
   "cell_type": "code",
   "execution_count": 22,
   "metadata": {},
   "outputs": [
    {
     "name": "stdout",
     "output_type": "stream",
     "text": [
      "Hello World, Hi\n"
     ]
    }
   ],
   "source": [
    "a= open(\"demofile.txt\",\"r+\")\n",
    "print(a.read())"
   ]
  },
  {
   "cell_type": "code",
   "execution_count": 28,
   "metadata": {},
   "outputs": [
    {
     "name": "stdout",
     "output_type": "stream",
     "text": [
      "Hello World, Hi\n"
     ]
    }
   ],
   "source": [
    "with open(\"demofile.txt\",\"r\") as myObject:\n",
    "    content=myObject.read()\n",
    "    print(content)"
   ]
  },
  {
   "cell_type": "markdown",
   "metadata": {},
   "source": [
    "-write on a file (edit)"
   ]
  },
  {
   "cell_type": "code",
   "execution_count": 27,
   "metadata": {},
   "outputs": [
    {
     "data": {
      "text/plain": [
       "15"
      ]
     },
     "execution_count": 27,
     "metadata": {},
     "output_type": "execute_result"
    }
   ],
   "source": [
    "a= open(\"demofile.txt\",'w')\n",
    "a.write(\"Hello World, Hi\")"
   ]
  },
  {
   "cell_type": "code",
   "execution_count": 37,
   "metadata": {},
   "outputs": [
    {
     "data": {
      "text/plain": [
       "111"
      ]
     },
     "execution_count": 37,
     "metadata": {},
     "output_type": "execute_result"
    }
   ],
   "source": [
    "x=a= open(\"file123.txt\",\"w\")\n",
    "x.write(\"Hello Hello World, HiHello World, HiHello World, HiHello World, HiHello World, HiHello World, HiHello World, Hi\")"
   ]
  },
  {
   "cell_type": "code",
   "execution_count": 38,
   "metadata": {},
   "outputs": [
    {
     "name": "stdout",
     "output_type": "stream",
     "text": [
      "Hello Hello World, HiHello World, HiHello World, HiHello World, HiHello World, HiHello World, HiHello World, Hi\n"
     ]
    }
   ],
   "source": [
    "a= open(\"file123.txt\",\"r+\")\n",
    "print(a.read())"
   ]
  },
  {
   "cell_type": "markdown",
   "metadata": {},
   "source": [
    "-Splitting the words in a text file \n",
    "    [readlines()]\n",
    "    \n",
    "-Splitting the letters of words in a text file \n",
    "    [readline()]"
   ]
  },
  {
   "cell_type": "code",
   "execution_count": 48,
   "metadata": {},
   "outputs": [
    {
     "name": "stdout",
     "output_type": "stream",
     "text": [
      "['Hello', 'Hello', 'World,', 'HiHello', 'World,', 'HiHello', 'World,', 'HiHello', 'World,', 'HiHello', 'World,', 'HiHello', 'World,', 'HiHello', 'World,'] ['ðŸ¥°â˜ºðŸ˜£â˜ºðŸ¤©ðŸ¤—ðŸ˜¶ðŸ˜™ðŸ˜Šâ˜ºðŸ˜«'] "
     ]
    }
   ],
   "source": [
    "a= open(\"file123.txt\",\"r\")\n",
    "d=a.readlines() #readline() will split tyhe letters in that file\n",
    "for line in d:\n",
    "    words=line.split()\n",
    "    print(words, end=\" \")\n"
   ]
  },
  {
   "cell_type": "markdown",
   "metadata": {},
   "source": [
    "-using append()"
   ]
  },
  {
   "cell_type": "code",
   "execution_count": 49,
   "metadata": {},
   "outputs": [
    {
     "name": "stdout",
     "output_type": "stream",
     "text": [
      "['Hello Hello World, HiHello World, HiHello World, HiHello World, HiHello World, HiHello World, HiHello World, \\n']\n",
      "['Hello Hello World, HiHello World, HiHello World, HiHello World, HiHello World, HiHello World, HiHello World, \\n', 'ðŸ¥°â˜ºðŸ˜£â˜ºðŸ¤©ðŸ¤—ðŸ˜¶ðŸ˜™ðŸ˜Šâ˜ºðŸ˜«']\n"
     ]
    }
   ],
   "source": [
    "a= open(\"file123.txt\",\"r\")\n",
    "content=[]\n",
    "d=a.readlines()\n",
    "for line in d:\n",
    "    content.append(line)\n",
    "    print(content)\n"
   ]
  },
  {
   "cell_type": "code",
   "execution_count": null,
   "metadata": {},
   "outputs": [],
   "source": [
    "# a= open(\"file1234.txt\",\"w\")\n",
    "# while True:\n",
    "    "
   ]
  },
  {
   "cell_type": "markdown",
   "metadata": {},
   "source": [
    "-File not dound exception handling"
   ]
  },
  {
   "cell_type": "code",
   "execution_count": 54,
   "metadata": {},
   "outputs": [
    {
     "name": "stdout",
     "output_type": "stream",
     "text": [
      "Hello Hello World, HiHello World, HiHello World, HiHello World, HiHello World, HiHello World, HiHello World, HiðŸ¥°â˜ºðŸ˜£â˜ºðŸ¤©ðŸ¤—ðŸ˜¶ðŸ˜™ðŸ˜Šâ˜ºðŸ˜«\n"
     ]
    }
   ],
   "source": [
    "try:\n",
    "    a= open(\"file123.txt\",\"r+\")\n",
    "    print(a.read())\n",
    "except FileNotFoundError:\n",
    "    print(\"File not found\")\n"
   ]
  },
  {
   "cell_type": "markdown",
   "metadata": {},
   "source": [
    "- Pickle"
   ]
  },
  {
   "cell_type": "code",
   "execution_count": 55,
   "metadata": {},
   "outputs": [],
   "source": [
    "import pickle\n",
    "a=[1,\"abc\",56,\"hello\"]\n",
    "x=open(\"pickle.txt\",\"wb\")\n",
    "pickle.dump(a,x)\n",
    "x.close()"
   ]
  },
  {
   "cell_type": "code",
   "execution_count": null,
   "metadata": {},
   "outputs": [],
   "source": []
  }
 ],
 "metadata": {
  "kernelspec": {
   "display_name": "venv",
   "language": "python",
   "name": "python3"
  },
  "language_info": {
   "codemirror_mode": {
    "name": "ipython",
    "version": 3
   },
   "file_extension": ".py",
   "mimetype": "text/x-python",
   "name": "python",
   "nbconvert_exporter": "python",
   "pygments_lexer": "ipython3",
   "version": "3.10.6"
  }
 },
 "nbformat": 4,
 "nbformat_minor": 2
}
